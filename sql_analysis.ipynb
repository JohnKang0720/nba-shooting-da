{
 "cells": [
  {
   "cell_type": "markdown",
   "metadata": {},
   "source": [
    "<h3> Data Analysis with SQL </h3>\n",
    "\n",
    "<p> Using SQLite3 integration into Jupyter Notebook, we will perform further data analysis with SQL using the additional_info file that contains more useful information about the players. The main advantage of SQL to do further analysis is its easy syntax compared to Python, while Python is more suited with wrangling.  The following cells installs SQLite3 and connects the dataframes into SQL. </p>"
   ]
  },
  {
   "cell_type": "code",
   "execution_count": null,
   "metadata": {},
   "outputs": [],
   "source": [
    "import sqlite3"
   ]
  },
  {
   "cell_type": "code",
   "execution_count": null,
   "metadata": {},
   "outputs": [],
   "source": [
    "!pip install ipython-sql"
   ]
  },
  {
   "cell_type": "code",
   "execution_count": null,
   "metadata": {},
   "outputs": [],
   "source": [
    "cnn = sqlite3.connect('nba_player_analysis.db')"
   ]
  },
  {
   "cell_type": "code",
   "execution_count": null,
   "metadata": {},
   "outputs": [],
   "source": [
    "merged=pd.read_csv(\"./player_shooting.csv\")"
   ]
  },
  {
   "cell_type": "code",
   "execution_count": null,
   "metadata": {},
   "outputs": [],
   "source": [
    "additional_info=pd.read_csv(\"./additional_info.csv\")"
   ]
  },
  {
   "cell_type": "code",
   "execution_count": null,
   "metadata": {},
   "outputs": [],
   "source": [
    "merged.to_sql('player_shooting', cnn)\n",
    "additional_info.to_sql('additional_info', cnn)"
   ]
  },
  {
   "cell_type": "code",
   "execution_count": null,
   "metadata": {},
   "outputs": [],
   "source": [
    "%load_ext sql \n",
    "%sql sqlite:///nba_player_analysis.db"
   ]
  },
  {
   "cell_type": "code",
   "execution_count": null,
   "metadata": {},
   "outputs": [],
   "source": [
    "%%sql \n",
    "\n",
    "CREATE temporary TABLE player_data (\n",
    "name varchar(30),\n",
    "num_shots int,\n",
    "real_height float,\n",
    "release_time float,\n",
    "release_vel float,\n",
    "max_vel float, \n",
    "left_to_right float,\n",
    "right_to_left float,\n",
    "arc float,\n",
    "raw_arc float,\n",
    "`release` varchar(100),\n",
    "`jump_dist` varchar(100),\n",
    "height int, \n",
    "career_fg float,\n",
    "career_fg_3 float,\n",
    "college varchar(100),\n",
    "draft_team varchar(100),\n",
    "position varchar(100),\n",
    "hand varchar(100),\n",
    "weight varchar(50),\n",
    "`status` int\n",
    ");"
   ]
  },
  {
   "cell_type": "markdown",
   "metadata": {},
   "source": [
    "#### Quick Data Cleaning:\n",
    "- Renaming and selecting necessary columns for analysis\n",
    "- Joining the shooting data with additional_info table, which contains further details about players"
   ]
  },
  {
   "cell_type": "code",
   "execution_count": null,
   "metadata": {},
   "outputs": [],
   "source": [
    "%%sql\n",
    "INSERT INTO player_data \n",
    "WITH p_stats AS (\n",
    "\tSELECT name, n AS num_shots, ROUND(hght, 1) as real_height, rt AS release_time, rv AS release_vel, mxv AS max_vel, lr1t AS left_to_right, rl1t AS right_to_left, plr AS arc, arc_angle AS raw_arc, `Release` AS `release` , jump_dist, approx_h AS height, `status`\n",
    "    FROM player_shooting\n",
    ")\n",
    "SELECT p.name, num_shots, real_height, release_time, release_vel, max_vel, left_to_right, right_to_left, arc, raw_arc, `release`, jump_dist, height, career_fg, career_fg_3, college, draft_team, \n",
    "position, hand, weight, `status` FROM p_stats p\n",
    "INNER JOIN (SELECT name, `career_FG%` AS `career_fg`, `career_FG3%` AS `career_fg_3`, college, draft_team, `position`, shoots AS hand, weight FROM additional_info) ai\n",
    "ON p.name = ai.name;\n",
    "\n",
    "UPDATE player_data \n",
    "SET \n",
    "    weight = REPLACE(weight, 'lb', '');\n",
    "\n",
    "ALTER TABLE player_data\n",
    "ALTER COLUMN weight int;"
   ]
  },
  {
   "cell_type": "markdown",
   "metadata": {},
   "source": [
    "### Analysis"
   ]
  },
  {
   "cell_type": "markdown",
   "metadata": {},
   "source": [
    "#### 1. Ranking of field goals per each team and their arcs (and selecting top scorers)"
   ]
  },
  {
   "cell_type": "code",
   "execution_count": null,
   "metadata": {},
   "outputs": [],
   "source": [
    "%%sql \n",
    "\n",
    "WITH ranks AS (\n",
    "SELECT name, career_fg_3, raw_arc, draft_team,\n",
    "RANK() OVER (PARTITION BY draft_team ORDER BY career_fg_3 DESC) AS fg_rank,\n",
    "RANK() OVER (PARTITION BY draft_team ORDER BY raw_arc DESC) AS arc_rank\n",
    "FROM (SELECT * FROM player_data WHERE `status` = 1) p )\n",
    "SELECT name, fg_rank, arc_rank FROM ranks\n",
    "WHERE fg_rank BETWEEN 1 AND 2;"
   ]
  },
  {
   "cell_type": "markdown",
   "metadata": {},
   "source": [
    "#### 2. Comparing the arc, release time and release velocity of different handed players"
   ]
  },
  {
   "cell_type": "code",
   "execution_count": null,
   "metadata": {},
   "outputs": [],
   "source": [
    "%%sql\n",
    "\n",
    "SELECT \n",
    "    AVG(arc) AS avg_arc,\n",
    "    AVG(release_time) AS avg_rt,\n",
    "    AVG(release_vel) AS avg_rv,\n",
    "    hand\n",
    "FROM\n",
    "    player_data\n",
    "GROUP BY hand;"
   ]
  },
  {
   "cell_type": "markdown",
   "metadata": {},
   "source": [
    "#### 3. Average field goal for each handedness and shoot pocket & selecting top 3 averages"
   ]
  },
  {
   "cell_type": "code",
   "execution_count": null,
   "metadata": {},
   "outputs": [],
   "source": [
    "%%sql\n",
    "\n",
    "SELECT \n",
    "    hand,\n",
    "    CASE\n",
    "        WHEN left_to_right > right_to_left THEN 'R'\n",
    "        WHEN left_to_right < right_to_left THEN 'L'\n",
    "        WHEN left_to_right = 0 AND right_to_left = 0 THEN 'S'\n",
    "    END AS shoot_pocket,\n",
    "    ROUND(AVG(career_fg), 2) AS avg_fg\n",
    "FROM\n",
    "    player_data\n",
    "GROUP BY hand , shoot_pocket\n",
    "ORDER BY avg_fg DESC\n",
    "LIMIT 3;"
   ]
  },
  {
   "cell_type": "markdown",
   "metadata": {},
   "source": [
    "#### 4. Avg metrics for each weightclasses (> 200 lb: heavy, < 170: light, in-between: Normal)"
   ]
  },
  {
   "cell_type": "code",
   "execution_count": null,
   "metadata": {},
   "outputs": [],
   "source": [
    "%%sql\n",
    "\n",
    "SELECT \n",
    "    AVG(arc) AS avg_arc,\n",
    "    AVG(career_fg) AS avg_fg,\n",
    "    AVG(release_time) AS avg_rt,\n",
    "    CASE\n",
    "        WHEN 170 < weight AND weight < 200 THEN 'Normal'\n",
    "        WHEN weight < 170 THEN 'Light'\n",
    "        WHEN weight > 200 THEN 'Very Heavy'\n",
    "        ELSE 'Light'\n",
    "    END AS weight_class\n",
    "FROM\n",
    "    player_data\n",
    "GROUP BY weight_class;"
   ]
  },
  {
   "cell_type": "markdown",
   "metadata": {},
   "source": [
    "#### 5. Average metrics for height classes "
   ]
  },
  {
   "cell_type": "code",
   "execution_count": null,
   "metadata": {},
   "outputs": [],
   "source": [
    "%%sql\n",
    "\n",
    "SELECT \n",
    "    AVG(arc), AVG(career_fg_3), AVG(release_time), real_height\n",
    "FROM\n",
    "    player_data\n",
    "WHERE\n",
    "    real_height != 0\n",
    "GROUP BY real_height;"
   ]
  },
  {
   "cell_type": "markdown",
   "metadata": {},
   "source": [
    "#### 6. Does jump distance lead to higher FG percentage?"
   ]
  },
  {
   "cell_type": "code",
   "execution_count": null,
   "metadata": {},
   "outputs": [],
   "source": [
    "%%sql\n",
    "\n",
    "WITH  t_ AS (SELECT *,\n",
    "DENSE_RANK() OVER(PARTITION BY position ORDER BY jump_dist) AS j_rank FROM player_data),\n",
    "t__ AS (SELECT career_fg, j_rank, position,\n",
    "LAG(career_fg, 1) OVER (PARTITION BY position ORDER BY j_rank ASC) AS `prev`\n",
    "FROM t_)\n",
    "SELECT DISTINCT position, j_rank, IIF(career_fg - `prev` > 0, \"Better\", \"Not Better\") AS better_than_prev\n",
    "FROM t__;"
   ]
  },
  {
   "cell_type": "markdown",
   "metadata": {},
   "source": [
    "#### 7. Does release time affect three-point performance?"
   ]
  },
  {
   "cell_type": "code",
   "execution_count": null,
   "metadata": {},
   "outputs": [],
   "source": [
    "%%sql\n",
    "\n",
    "SELECT \n",
    "    AVG(career_fg_3) AS three_pt_fg, `release`\n",
    "FROM\n",
    "    player_data\n",
    "GROUP BY `release`;"
   ]
  },
  {
   "cell_type": "markdown",
   "metadata": {},
   "source": [
    "#### 8. Which college produces the best scorers?  "
   ]
  },
  {
   "cell_type": "code",
   "execution_count": null,
   "metadata": {},
   "outputs": [],
   "source": [
    "%%sql\n",
    "\n",
    "SELECT \n",
    "    college, AVG(career_fg) AS fg\n",
    "FROM\n",
    "    player_data\n",
    "GROUP BY college\n",
    "ORDER BY fg DESC;"
   ]
  },
  {
   "cell_type": "markdown",
   "metadata": {},
   "source": [
    "#### 9. Comparing all metrics between players that made and missed the shot."
   ]
  },
  {
   "cell_type": "markdown",
   "metadata": {},
   "source": [
    "REMARK: Every even-th column are made shot metrics and every odd-th was missed."
   ]
  },
  {
   "cell_type": "code",
   "execution_count": null,
   "metadata": {},
   "outputs": [],
   "source": [
    "%%sql\n",
    "\n",
    "WITH tt as (\n",
    "SELECT *,\n",
    "LEAD(release_time,1) OVER lead_window AS rt_win,\n",
    "LEAD(release_vel,1) OVER lead_window AS rv_win,\n",
    "LEAD(max_vel,1) OVER lead_window AS mv_win,\n",
    "LEAD(left_to_right,1) OVER lead_window AS lr_win,\n",
    "LEAD(right_to_left,1) OVER lead_window AS rl_win,\n",
    "LEAD(arc,1) OVER lead_window AS arc_win\n",
    "FROM player_data \n",
    "WINDOW lead_window AS (partition by name))\n",
    "SELECT * FROM (select name, ROUND(release_time - ifnull(rt_win, null), 1) as rt_diff,\n",
    "ROUND(release_vel - ifnull(rv_win, null), 1) as rv_diff,\n",
    "ROUND(max_vel - ifnull(mv_win, null), 1) as mv_diff,\n",
    "ROUND(left_to_right - ifnull(lr_win, null), 1) as lr_diff,\n",
    "ROUND(right_to_left - ifnull(rl_win, null), 1) as rl_diff,\n",
    "ROUND(arc - ifnull(arc_win, null), 1) as arc_diff\n",
    "FROM tt) tt_\n",
    "WHERE rt_diff IS NOT NULL\n",
    "LIMIT 20;"
   ]
  },
  {
   "cell_type": "markdown",
   "metadata": {},
   "source": [
    "##### 10. Between made vs missed shots, what are the differences in how much you \"pull\" back when you release?"
   ]
  },
  {
   "cell_type": "code",
   "execution_count": null,
   "metadata": {},
   "outputs": [],
   "source": [
    "%%sql\n",
    "\n",
    "SELECT status, AVG(ry) pull_back FROM player_shooting\n",
    "GROUP BY status\n",
    "ORDER BY AVG(ry);"
   ]
  },
  {
   "cell_type": "markdown",
   "metadata": {},
   "source": [
    "## Conclusion"
   ]
  },
  {
   "cell_type": "markdown",
   "metadata": {},
   "source": [
    "#TODO"
   ]
  }
 ],
 "metadata": {
  "language_info": {
   "name": "python"
  }
 },
 "nbformat": 4,
 "nbformat_minor": 2
}
