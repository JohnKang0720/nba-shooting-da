{
 "cells": [
  {
   "cell_type": "markdown",
   "metadata": {},
   "source": [
    "# What Attributes create a great scorer in the NBA?"
   ]
  },
  {
   "cell_type": "markdown",
   "metadata": {},
   "source": [
    "### Introduction\n",
    "\n",
    "In a famous sport called Basketball, shooting is arguably the most important part of the game as it decides the win & loss. With a great passion towards Basketball, the following question sparked my curiosity: \"What characteristics of the shot of NBA players make or break the shot?\". To answer this question, the metrics like shooting arc to intricate details like release point of the shot needs to be explored. As a result, this allows Statisticians and Basketball players to distinguish beneficial, as well as harmful shooting habits through such analysis. I greatly hope that similar reports help enhance the performances of players to spread the artistic component of Basketball. As a player myself (not pro-level obviously), this report may help readers gain sense of what really makes or breaks your shot.\n",
    "\n",
    "<h7> Technologies used: </h7>\n",
    "- Python (Pandas) for data cleaning & wrangling\n",
    "- SQL (MySQL) for further data analysis\n",
    "- Seaborn library for exploratory visualzations\n",
    "\n",
    "The following dataset (from Kaggle API) is a detailed collection of intersting metrics of the player's shots. The player-shooting file contains information about the player's shooting motion itself while the ball-path file contains the time-series data of the path of the ball takes. This creates 4 files which 2 of them are \"made\" shots and the other 2 are \"missed\" shots.\n",
    "\n",
    "Columns used (player-metric):\n",
    "- pid: Distinct player id\n",
    "- fnm: First name\n",
    "- lnm: Last name\n",
    "- n: Shot taken\n",
    "- bz: The z-coordinate of the hand when release\n",
    "- rt: Release time\n",
    "- rz: Z-coordinate of the ball when release\n",
    "- mnvt: Time to reach min vel.\n",
    "- mnv: Minimum vel.\n",
    "- lr1t: Time when ball shifts from left to right\n",
    "- rl1t: Time when ball shifts right to left\n",
    "- plr: Relative arc\n",
    "\n",
    "Columns used (ball-path):\n",
    "- t: Time frame\n",
    "- dz: Change in z-coord\n",
    "- ca: Ball acceleration\n",
    "- cv: Ball velocity"
   ]
  },
  {
   "cell_type": "markdown",
   "metadata": {},
   "source": [
    "### 1. Import necessary libraries\n",
    "The following are used for data analysis and file work mainly."
   ]
  },
  {
   "cell_type": "code",
   "execution_count": 2,
   "metadata": {},
   "outputs": [],
   "source": [
    "import zipfile\n",
    "import os\n",
    "import pandas as pd\n",
    "import numpy as np\n",
    "import matplotlib.pyplot as plt\n",
    "import seaborn as sns"
   ]
  },
  {
   "cell_type": "markdown",
   "metadata": {},
   "source": [
    "#### 1.1 Install Kaggle\n",
    "Installed Kaggle using pip command to use for API and other Kaggle features."
   ]
  },
  {
   "cell_type": "code",
   "execution_count": 1,
   "metadata": {},
   "outputs": [
    {
     "name": "stdout",
     "output_type": "stream",
     "text": [
      "Requirement already satisfied: kaggle in c:\\python311\\lib\\site-packages (1.6.12)\n",
      "Requirement already satisfied: six>=1.10 in c:\\python311\\lib\\site-packages (from kaggle) (1.16.0)\n",
      "Requirement already satisfied: certifi>=2023.7.22 in c:\\python311\\lib\\site-packages (from kaggle) (2023.11.17)\n",
      "Requirement already satisfied: python-dateutil in c:\\python311\\lib\\site-packages (from kaggle) (2.8.2)\n",
      "Requirement already satisfied: requests in c:\\python311\\lib\\site-packages (from kaggle) (2.31.0)\n",
      "Requirement already satisfied: tqdm in c:\\python311\\lib\\site-packages (from kaggle) (4.66.4)\n",
      "Requirement already satisfied: python-slugify in c:\\python311\\lib\\site-packages (from kaggle) (8.0.4)\n",
      "Requirement already satisfied: urllib3 in c:\\python311\\lib\\site-packages (from kaggle) (2.1.0)\n",
      "Requirement already satisfied: bleach in c:\\python311\\lib\\site-packages (from kaggle) (6.1.0)\n",
      "Requirement already satisfied: webencodings in c:\\python311\\lib\\site-packages (from bleach->kaggle) (0.5.1)\n",
      "Requirement already satisfied: text-unidecode>=1.3 in c:\\python311\\lib\\site-packages (from python-slugify->kaggle) (1.3)\n",
      "Requirement already satisfied: charset-normalizer<4,>=2 in c:\\python311\\lib\\site-packages (from requests->kaggle) (3.3.2)\n",
      "Requirement already satisfied: idna<4,>=2.5 in c:\\python311\\lib\\site-packages (from requests->kaggle) (3.6)\n",
      "Requirement already satisfied: colorama in c:\\users\\kangj\\appdata\\roaming\\python\\python311\\site-packages (from tqdm->kaggle) (0.4.6)\n",
      "Note: you may need to restart the kernel to use updated packages.\n"
     ]
    },
    {
     "name": "stderr",
     "output_type": "stream",
     "text": [
      "\n",
      "[notice] A new release of pip available: 22.3.1 -> 24.0\n",
      "[notice] To update, run: python.exe -m pip install --upgrade pip\n"
     ]
    }
   ],
   "source": [
    "%pip install kaggle"
   ]
  },
  {
   "cell_type": "markdown",
   "metadata": {},
   "source": [
    "Created a directory to store csv files from API."
   ]
  },
  {
   "cell_type": "code",
   "execution_count": 14,
   "metadata": {},
   "outputs": [
    {
     "name": "stderr",
     "output_type": "stream",
     "text": [
      "The directory or file cannot be created.\n"
     ]
    }
   ],
   "source": [
    "%mkdir C:\\Users\\kangj\\.kaggle\\"
   ]
  },
  {
   "cell_type": "markdown",
   "metadata": {},
   "source": [
    "Redirected kaggle.json file into the directory, necessary to retrieve Kaggle data."
   ]
  },
  {
   "cell_type": "code",
   "execution_count": 22,
   "metadata": {},
   "outputs": [
    {
     "name": "stdout",
     "output_type": "stream",
     "text": [
      "        1 file(s) copied.\n"
     ]
    }
   ],
   "source": [
    "%copy .\\kaggle.json C:\\Users\\kangj\\.kaggle\\"
   ]
  },
  {
   "cell_type": "code",
   "execution_count": 4,
   "metadata": {},
   "outputs": [],
   "source": [
    "rel_path = \"C:/Users/kangj/.kaggle/\""
   ]
  },
  {
   "cell_type": "markdown",
   "metadata": {},
   "source": [
    "The !kaggle command (from the API) is used to retrieve bunch of datasets related to NBA player statistics. For the goal of this project, we will retrieve the most ideal one."
   ]
  },
  {
   "cell_type": "code",
   "execution_count": 33,
   "metadata": {},
   "outputs": [
    {
     "name": "stdout",
     "output_type": "stream",
     "text": [
      "ref                                                             title                                              size  lastUpdated          downloadCount  voteCount  usabilityRating  \n",
      "--------------------------------------------------------------  ------------------------------------------------  -----  -------------------  -------------  ---------  ---------------  \n",
      "sumitrodatta/nba-aba-baa-stats                                  NBA Stats (1947-present)                           10MB  2024-04-15 16:26:02           6942        137  1.0              \n",
      "jamiewelsh2/nba-player-salaries-2022-23-season                  NBA Player Salaries (2022-23 Season)               73KB  2023-10-07 15:11:33           3442         58  1.0              \n",
      "paultimothymooney/nba-player-shooting-motions                   NBA Player Shooting Motions                        10MB  2021-01-25 18:02:28            115          5  0.88235295       \n",
      "jamiewelsh2/nba-per-game-player-statistics-2022-2023-season     NBA Per Game and Advanced Stats (2022-23 Season)   79KB  2023-10-08 15:58:30            714         31  1.0              \n",
      "matthewjohnson14/nba-player-shooting-motions                    NBA Player Shooting Motions                        49MB  2023-12-20 22:06:24             27          3  0.8235294        \n",
      "dhavalrupapara/nba-2023-player-shot-dataset                     NBA Player Shot Dataset (2023)                     60KB  2023-10-23 11:40:22           1554         29  1.0              \n",
      "wh0801/NBA-16-17-regular-season-shot-log                        NBA 16-17 regular season shot log                   6MB  2017-06-03 02:50:31           1043         14  0.5882353        \n",
      "marcusfern/nba-draft-combine                                    NBA Draft Combine                                  56KB  2022-05-24 18:48:11            391          7  0.8235294        \n",
      "rickmcintire/mighunba2023                                       mega_nba2022-2023                                  28KB  2024-05-11 06:51:00            155          8  0.64705884       \n",
      "rickmcintire/mega-mbgamestats                                   mega_mbgamestats                                    3KB  2023-06-01 08:47:56             66          7  0.75             \n",
      "hultm28/nba-player-hollingers-stats                             NBA Player Hollinger's Stats                      219KB  2018-11-05 22:16:59            239          7  0.64705884       \n",
      "thedevastator/exploring-nba-player-performance-and-salaries-19  NBA Players Performance and Salaries              472KB  2022-12-04 16:50:37            871          7  0.9411765        \n",
      "eduardopalmieri/5555555                                         NBA Players Statistics 23/24                      641KB  2024-05-08 22:45:38            164          4  0.64705884       \n",
      "davidgdong/20212022-nba-rookie-dataset-roty-analysis            2021-2022 NBA Rookie Dataset & ROTY Analysis        3KB  2022-04-07 08:44:45            149          6  0.7647059        \n",
      "rickmcintire/mighuretro2024                                     mega_retro2024                                     32KB  2024-05-11 16:07:12             10          3  0.5882353        \n",
      "owenrocchi/nba-advanced-stats-20022022                          NBA Advanced Stats 2002-2022                      626KB  2022-06-30 16:23:51            169          6  0.5882353        \n",
      "rickmcintire/mega-mb0000data                                    mega_mb0000data                                    31KB  2023-06-01 05:20:50             25          3  0.5294118        \n",
      "aski1140/nba-games-total-stats                                  NBA_Games_Total_Stats                              13MB  2023-11-14 13:13:58             39          1  0.8235294        \n",
      "rickmcintire/mighunba2024                                       mega_nba2023-2024                                  33KB  2024-05-11 16:05:01             35          1  0.5882353        \n",
      "nicklauskim/nba-per-game-stats-201920                           NBA Player Stats (2019-20)                        163KB  2020-10-15 01:52:53           1291         17  0.88235295       \n"
     ]
    }
   ],
   "source": [
    "!kaggle datasets list -s \"nba player shooting\""
   ]
  },
  {
   "cell_type": "markdown",
   "metadata": {},
   "source": [
    "Store the name of the dataset into a file."
   ]
  },
  {
   "cell_type": "code",
   "execution_count": 39,
   "metadata": {},
   "outputs": [],
   "source": [
    "name = \"matthewjohnson14/nba-player-shooting-motions\""
   ]
  },
  {
   "cell_type": "markdown",
   "metadata": {},
   "source": [
    "Usedthe kaggle command to explore all the files that comes with the dataset folder."
   ]
  },
  {
   "cell_type": "code",
   "execution_count": 36,
   "metadata": {},
   "outputs": [
    {
     "name": "stdout",
     "output_type": "stream",
     "text": [
      "name                          size  creationDate         \n",
      "---------------------------  -----  -------------------  \n",
      "path_detail_made.csv          27MB  2023-12-20 22:06:24  \n",
      "player_metrics_open.csv      127KB  2023-12-20 22:06:24  \n",
      "path_detail_open.csv          26MB  2023-12-20 22:06:24  \n",
      "player_metrics.csv           126KB  2023-12-20 22:06:24  \n",
      "player_metrics_miss.csv      126KB  2023-12-20 22:06:24  \n",
      "path_detail_miss.csv          26MB  2023-12-20 22:06:24  \n",
      "path_detail.csv               26MB  2023-12-20 22:06:24  \n",
      "path_detail_defended.csv      27MB  2023-12-20 22:06:24  \n",
      "player_metrics_defended.csv  122KB  2023-12-20 22:06:24  \n",
      "player_metrics_made.csv      127KB  2023-12-20 22:06:24  \n"
     ]
    }
   ],
   "source": [
    "!kaggle datasets files name"
   ]
  },
  {
   "cell_type": "markdown",
   "metadata": {},
   "source": [
    "Used the download command to download the file."
   ]
  },
  {
   "cell_type": "code",
   "execution_count": 37,
   "metadata": {},
   "outputs": [
    {
     "name": "stdout",
     "output_type": "stream",
     "text": [
      "Dataset URL: https://www.kaggle.com/datasets/matthewjohnson14/nba-player-shooting-motions\n",
      "License(s): unknown\n",
      "Downloading nba-player-shooting-motions.zip to C:\\Users\\kangj\\.kaggle\n",
      "\n"
     ]
    },
    {
     "name": "stderr",
     "output_type": "stream",
     "text": [
      "\n",
      "  0%|          | 0.00/49.5M [00:00<?, ?B/s]\n",
      "  2%|▏         | 1.00M/49.5M [00:00<00:08, 5.70MB/s]\n",
      "  4%|▍         | 2.00M/49.5M [00:00<00:06, 7.58MB/s]\n",
      "  8%|▊         | 4.00M/49.5M [00:00<00:05, 9.35MB/s]\n",
      " 10%|█         | 5.00M/49.5M [00:00<00:04, 9.39MB/s]\n",
      " 12%|█▏        | 6.00M/49.5M [00:00<00:04, 9.18MB/s]\n",
      " 14%|█▍        | 7.00M/49.5M [00:00<00:05, 7.79MB/s]\n",
      " 16%|█▌        | 8.00M/49.5M [00:01<00:06, 7.23MB/s]\n",
      " 18%|█▊        | 9.00M/49.5M [00:01<00:07, 5.71MB/s]\n",
      " 20%|██        | 10.0M/49.5M [00:01<00:06, 6.48MB/s]\n",
      " 24%|██▍       | 12.0M/49.5M [00:01<00:05, 7.66MB/s]\n",
      " 26%|██▋       | 13.0M/49.5M [00:01<00:04, 8.05MB/s]\n",
      " 30%|███       | 15.0M/49.5M [00:02<00:04, 8.19MB/s]\n",
      " 32%|███▏      | 16.0M/49.5M [00:02<00:04, 8.62MB/s]\n",
      " 34%|███▍      | 17.0M/49.5M [00:02<00:04, 8.48MB/s]\n",
      " 36%|███▋      | 18.0M/49.5M [00:02<00:03, 8.85MB/s]\n",
      " 38%|███▊      | 19.0M/49.5M [00:02<00:03, 8.69MB/s]\n",
      " 40%|████      | 20.0M/49.5M [00:02<00:03, 8.50MB/s]\n",
      " 42%|████▏     | 21.0M/49.5M [00:02<00:03, 8.77MB/s]\n",
      " 44%|████▍     | 22.0M/49.5M [00:02<00:03, 8.56MB/s]\n",
      " 48%|████▊     | 24.0M/49.5M [00:03<00:02, 9.64MB/s]\n",
      " 51%|█████     | 25.0M/49.5M [00:03<00:02, 9.71MB/s]\n",
      " 55%|█████▍    | 27.0M/49.5M [00:03<00:02, 9.82MB/s]\n",
      " 57%|█████▋    | 28.0M/49.5M [00:03<00:02, 9.29MB/s]\n",
      " 59%|█████▊    | 29.0M/49.5M [00:03<00:02, 9.29MB/s]\n",
      " 61%|██████    | 30.0M/49.5M [00:03<00:02, 7.34MB/s]\n",
      " 63%|██████▎   | 31.0M/49.5M [00:04<00:02, 6.70MB/s]\n",
      " 65%|██████▍   | 32.0M/49.5M [00:04<00:02, 6.96MB/s]\n",
      " 67%|██████▋   | 33.0M/49.5M [00:04<00:02, 7.45MB/s]\n",
      " 71%|███████   | 35.0M/49.5M [00:04<00:01, 8.56MB/s]\n",
      " 73%|███████▎  | 36.0M/49.5M [00:04<00:01, 8.88MB/s]\n",
      " 75%|███████▍  | 37.0M/49.5M [00:04<00:01, 9.19MB/s]\n",
      " 77%|███████▋  | 38.0M/49.5M [00:04<00:01, 9.44MB/s]\n",
      " 81%|████████  | 40.0M/49.5M [00:04<00:00, 10.0MB/s]\n",
      " 83%|████████▎ | 41.0M/49.5M [00:05<00:00, 9.96MB/s]\n",
      " 85%|████████▍ | 42.0M/49.5M [00:05<00:00, 10.0MB/s]\n",
      " 87%|████████▋ | 43.0M/49.5M [00:05<00:00, 9.83MB/s]\n",
      " 91%|█████████ | 45.0M/49.5M [00:05<00:00, 10.2MB/s]\n",
      " 95%|█████████▍| 47.0M/49.5M [00:05<00:00, 9.94MB/s]\n",
      " 99%|█████████▉| 49.0M/49.5M [00:05<00:00, 10.6MB/s]\n",
      "100%|██████████| 49.5M/49.5M [00:05<00:00, 8.74MB/s]\n"
     ]
    }
   ],
   "source": [
    "!kaggle datasets download name"
   ]
  },
  {
   "cell_type": "markdown",
   "metadata": {},
   "source": [
    "Extracted the zipfile of all file contents that came from the API. Note that these files were automatically stored into the folder that .json file belonged to. "
   ]
  },
  {
   "cell_type": "code",
   "execution_count": 50,
   "metadata": {},
   "outputs": [],
   "source": [
    "with zipfile.ZipFile(r\"C:\\Users\\kangj\\.kaggle\\nba-player-shooting-motions.zip\", 'r') as file:\n",
    "    file.extractall()"
   ]
  },
  {
   "cell_type": "markdown",
   "metadata": {},
   "source": [
    "Read one of the file to check valid information for analysis exists."
   ]
  },
  {
   "cell_type": "code",
   "execution_count": 5,
   "metadata": {},
   "outputs": [
    {
     "name": "stdout",
     "output_type": "stream",
     "text": [
      "['kaggle.json', 'nba-player-shooting-motions.zip', 'path_detail.csv', 'path_detail_defended.csv', 'path_detail_made.csv', 'path_detail_miss.csv', 'path_detail_open.csv', 'player_metrics.csv', 'player_metrics_defended.csv', 'player_metrics_made.csv', 'player_metrics_miss.csv', 'player_metrics_open.csv']\n"
     ]
    }
   ],
   "source": [
    "#check that it is extracted\n",
    "ls = os.listdir(rel_path)\n",
    "print(ls)"
   ]
  },
  {
   "cell_type": "markdown",
   "metadata": {},
   "source": [
    "## 2. Data Cleaning & Wrangling"
   ]
  },
  {
   "cell_type": "markdown",
   "metadata": {},
   "source": [
    "We will first wrangle the datasets & perform basic analysis to create meaningful columns and exploration, which will further extend to SQL."
   ]
  },
  {
   "cell_type": "markdown",
   "metadata": {},
   "source": [
    "<h3> 2.1 Reading Data </h3>\n",
    "<p> The NBA shooting dataset (via Kaggle API) is in CSV format. The dataset contains the specific information about player characteristics as well as the path that their balls take (in a time-series format). This is split into made-shots and missed-shots which becomes 4 files in total and they are read by read_csv() function. </p>"
   ]
  },
  {
   "cell_type": "code",
   "execution_count": 13,
   "metadata": {},
   "outputs": [],
   "source": [
    "made_player_p = pd.read_csv(rel_path+\"player_metrics_made.csv\")\n",
    "missed_p = pd.read_csv(rel_path+\"player_metrics_miss.csv\")\n",
    "\n",
    "missed_b = pd.read_csv(rel_path+\"path_detail_miss.csv\")\n",
    "made_player_b = pd.read_csv(rel_path+\"path_detail_made.csv\")"
   ]
  },
  {
   "cell_type": "markdown",
   "metadata": {},
   "source": [
    "<h3> 2.2 Wrangling </h3>"
   ]
  },
  {
   "cell_type": "markdown",
   "metadata": {},
   "source": [
    "##### 2.2.1 Creating 'names' column\n",
    "\n",
    "Created a name column that contains both first names and last names of players and remove the fnm and lnm columns. This makes it much easier to work with as we can view the names at once and join other tables (which we will later)."
   ]
  },
  {
   "cell_type": "code",
   "execution_count": 10,
   "metadata": {},
   "outputs": [],
   "source": [
    "made_player_p[\"name\"] = made_player_p[\"fnm\"]+\" \"+made_player_p[\"lnm\"]\n",
    "made_player_p = made_player_p.drop(columns=[\"fnm\", \"lnm\"])\n",
    "\n",
    "missed_p[\"name\"] = missed_p[\"fnm\"]+\" \"+missed_p[\"lnm\"]\n",
    "missed_p = missed_p.drop(columns=[\"fnm\", \"lnm\"])"
   ]
  },
  {
   "cell_type": "code",
   "execution_count": 11,
   "metadata": {},
   "outputs": [
    {
     "data": {
      "text/html": [
       "<div>\n",
       "<style scoped>\n",
       "    .dataframe tbody tr th:only-of-type {\n",
       "        vertical-align: middle;\n",
       "    }\n",
       "\n",
       "    .dataframe tbody tr th {\n",
       "        vertical-align: top;\n",
       "    }\n",
       "\n",
       "    .dataframe thead th {\n",
       "        text-align: right;\n",
       "    }\n",
       "</style>\n",
       "<table border=\"1\" class=\"dataframe\">\n",
       "  <thead>\n",
       "    <tr style=\"text-align: right;\">\n",
       "      <th></th>\n",
       "      <th>pid</th>\n",
       "      <th>hght</th>\n",
       "      <th>n</th>\n",
       "      <th>bx</th>\n",
       "      <th>by</th>\n",
       "      <th>bz</th>\n",
       "      <th>rt</th>\n",
       "      <th>rx</th>\n",
       "      <th>ry</th>\n",
       "      <th>rz</th>\n",
       "      <th>...</th>\n",
       "      <th>rl1y</th>\n",
       "      <th>rl1z</th>\n",
       "      <th>rl2t</th>\n",
       "      <th>rl2x</th>\n",
       "      <th>rl2y</th>\n",
       "      <th>rl2z</th>\n",
       "      <th>pl</th>\n",
       "      <th>spl</th>\n",
       "      <th>plr</th>\n",
       "      <th>name</th>\n",
       "    </tr>\n",
       "  </thead>\n",
       "  <tbody>\n",
       "    <tr>\n",
       "      <th>0</th>\n",
       "      <td>201935</td>\n",
       "      <td>77.0</td>\n",
       "      <td>1138</td>\n",
       "      <td>-0.188301</td>\n",
       "      <td>0.261251</td>\n",
       "      <td>3.407759</td>\n",
       "      <td>0.376</td>\n",
       "      <td>-0.009724</td>\n",
       "      <td>0.018318</td>\n",
       "      <td>8.168231</td>\n",
       "      <td>...</td>\n",
       "      <td>0.083910</td>\n",
       "      <td>6.982244</td>\n",
       "      <td>NaN</td>\n",
       "      <td>NaN</td>\n",
       "      <td>NaN</td>\n",
       "      <td>NaN</td>\n",
       "      <td>5.159005</td>\n",
       "      <td>4.770011</td>\n",
       "      <td>1.081550</td>\n",
       "      <td>James Harden</td>\n",
       "    </tr>\n",
       "    <tr>\n",
       "      <th>1</th>\n",
       "      <td>203081</td>\n",
       "      <td>74.0</td>\n",
       "      <td>1114</td>\n",
       "      <td>-0.203829</td>\n",
       "      <td>-0.114526</td>\n",
       "      <td>2.976263</td>\n",
       "      <td>0.378</td>\n",
       "      <td>0.000623</td>\n",
       "      <td>-0.001450</td>\n",
       "      <td>7.694068</td>\n",
       "      <td>...</td>\n",
       "      <td>0.268531</td>\n",
       "      <td>5.016066</td>\n",
       "      <td>NaN</td>\n",
       "      <td>NaN</td>\n",
       "      <td>NaN</td>\n",
       "      <td>NaN</td>\n",
       "      <td>5.063771</td>\n",
       "      <td>4.723586</td>\n",
       "      <td>1.072018</td>\n",
       "      <td>Damian Lillard</td>\n",
       "    </tr>\n",
       "    <tr>\n",
       "      <th>2</th>\n",
       "      <td>2772</td>\n",
       "      <td>80.0</td>\n",
       "      <td>942</td>\n",
       "      <td>0.094973</td>\n",
       "      <td>-0.040592</td>\n",
       "      <td>3.168317</td>\n",
       "      <td>0.436</td>\n",
       "      <td>-0.075815</td>\n",
       "      <td>-0.003552</td>\n",
       "      <td>8.524100</td>\n",
       "      <td>...</td>\n",
       "      <td>0.339848</td>\n",
       "      <td>4.302039</td>\n",
       "      <td>NaN</td>\n",
       "      <td>NaN</td>\n",
       "      <td>NaN</td>\n",
       "      <td>NaN</td>\n",
       "      <td>5.813509</td>\n",
       "      <td>5.358633</td>\n",
       "      <td>1.084887</td>\n",
       "      <td>Trevor Ariza</td>\n",
       "    </tr>\n",
       "    <tr>\n",
       "      <th>3</th>\n",
       "      <td>202083</td>\n",
       "      <td>76.0</td>\n",
       "      <td>920</td>\n",
       "      <td>-0.730036</td>\n",
       "      <td>0.199584</td>\n",
       "      <td>3.154288</td>\n",
       "      <td>0.372</td>\n",
       "      <td>-0.004414</td>\n",
       "      <td>-0.000733</td>\n",
       "      <td>7.482605</td>\n",
       "      <td>...</td>\n",
       "      <td>0.327046</td>\n",
       "      <td>4.241086</td>\n",
       "      <td>NaN</td>\n",
       "      <td>NaN</td>\n",
       "      <td>NaN</td>\n",
       "      <td>NaN</td>\n",
       "      <td>4.888613</td>\n",
       "      <td>4.393289</td>\n",
       "      <td>1.112746</td>\n",
       "      <td>Wesley Matthews</td>\n",
       "    </tr>\n",
       "    <tr>\n",
       "      <th>4</th>\n",
       "      <td>200768</td>\n",
       "      <td>72.0</td>\n",
       "      <td>886</td>\n",
       "      <td>0.458438</td>\n",
       "      <td>-0.121073</td>\n",
       "      <td>2.717203</td>\n",
       "      <td>0.462</td>\n",
       "      <td>-0.009921</td>\n",
       "      <td>-0.011221</td>\n",
       "      <td>7.975187</td>\n",
       "      <td>...</td>\n",
       "      <td>0.605427</td>\n",
       "      <td>4.105267</td>\n",
       "      <td>NaN</td>\n",
       "      <td>NaN</td>\n",
       "      <td>NaN</td>\n",
       "      <td>NaN</td>\n",
       "      <td>6.180054</td>\n",
       "      <td>5.279945</td>\n",
       "      <td>1.170477</td>\n",
       "      <td>Kyle Lowry</td>\n",
       "    </tr>\n",
       "  </tbody>\n",
       "</table>\n",
       "<p>5 rows × 60 columns</p>\n",
       "</div>"
      ],
      "text/plain": [
       "      pid  hght     n        bx        by        bz     rt        rx  \\\n",
       "0  201935  77.0  1138 -0.188301  0.261251  3.407759  0.376 -0.009724   \n",
       "1  203081  74.0  1114 -0.203829 -0.114526  2.976263  0.378  0.000623   \n",
       "2    2772  80.0   942  0.094973 -0.040592  3.168317  0.436 -0.075815   \n",
       "3  202083  76.0   920 -0.730036  0.199584  3.154288  0.372 -0.004414   \n",
       "4  200768  72.0   886  0.458438 -0.121073  2.717203  0.462 -0.009921   \n",
       "\n",
       "         ry        rz  ...      rl1y      rl1z  rl2t  rl2x  rl2y  rl2z  \\\n",
       "0  0.018318  8.168231  ...  0.083910  6.982244   NaN   NaN   NaN   NaN   \n",
       "1 -0.001450  7.694068  ...  0.268531  5.016066   NaN   NaN   NaN   NaN   \n",
       "2 -0.003552  8.524100  ...  0.339848  4.302039   NaN   NaN   NaN   NaN   \n",
       "3 -0.000733  7.482605  ...  0.327046  4.241086   NaN   NaN   NaN   NaN   \n",
       "4 -0.011221  7.975187  ...  0.605427  4.105267   NaN   NaN   NaN   NaN   \n",
       "\n",
       "         pl       spl       plr             name  \n",
       "0  5.159005  4.770011  1.081550     James Harden  \n",
       "1  5.063771  4.723586  1.072018   Damian Lillard  \n",
       "2  5.813509  5.358633  1.084887     Trevor Ariza  \n",
       "3  4.888613  4.393289  1.112746  Wesley Matthews  \n",
       "4  6.180054  5.279945  1.170477       Kyle Lowry  \n",
       "\n",
       "[5 rows x 60 columns]"
      ]
     },
     "execution_count": 11,
     "metadata": {},
     "output_type": "execute_result"
    }
   ],
   "source": [
    "made_player_p.head()"
   ]
  },
  {
   "cell_type": "markdown",
   "metadata": {},
   "source": [
    "##### 2.2.2 Categorized missed & made shots\n",
    "Created a status column to indicate whether or not the row contains the shot characteristics of \"made\" or \"missed\" shots."
   ]
  },
  {
   "cell_type": "code",
   "execution_count": 12,
   "metadata": {},
   "outputs": [],
   "source": [
    "made_player_p[\"status\"] = 1"
   ]
  },
  {
   "cell_type": "code",
   "execution_count": 13,
   "metadata": {},
   "outputs": [],
   "source": [
    "missed_p[\"status\"] = 0"
   ]
  },
  {
   "cell_type": "markdown",
   "metadata": {},
   "source": [
    "<p> Joined the player characteristics for \"missed\" and \"made\" shots. The rows were distinguished by status (made or missed) and this makes a cleaner table that contains all information. This makes it quite easier to compare the made and missed shot statistics. </p>"
   ]
  },
  {
   "cell_type": "code",
   "execution_count": 14,
   "metadata": {},
   "outputs": [],
   "source": [
    "merged = pd.concat([made_player_p, missed_p])"
   ]
  },
  {
   "cell_type": "markdown",
   "metadata": {},
   "source": [
    "##### 2.2.3 Rescaling\n",
    "\n",
    "Re-scaled height from inches to feet for unit consensus. Since all other metrics are in feet, it only makes senseto re-scale this metric to feet."
   ]
  },
  {
   "cell_type": "code",
   "execution_count": 16,
   "metadata": {},
   "outputs": [],
   "source": [
    "merged[\"hght\"] = merged[\"hght\"]*0.0833333"
   ]
  },
  {
   "cell_type": "markdown",
   "metadata": {},
   "source": [
    "##### 2.2.4 Calculating absolute shot angle via Kinematics\n",
    " \n",
    "Through the calc_angle() function, I calculated the angle of each player's shot using a Kinematics formula that takes into account initial & final height, time and shooting velocity (assuming air friction is negligible). This calculation is somewhat more accurate than the \"plr\" column which is the proportion between straight line path and the actual shot path. \n",
    "\n",
    "Let's imagine 2 players are 5ft and 6ft tall respectively. If the 5ft player shoots a flat shot and the 6ft player shoots a decently arc-ed shot, there is still a chance that the plr is similar even though, the absolute angle of the 5ft is roughly the same or maybe higher than the 6ft player. This is because the \"spl\" is higher for the 6ft, so the 6ft player needs a much higher arc shot to have a \"plr\" greater or equal to someone shorter! Hence, we take absolute angle."
   ]
  },
  {
   "cell_type": "code",
   "execution_count": 17,
   "metadata": {},
   "outputs": [
    {
     "name": "stderr",
     "output_type": "stream",
     "text": [
      "C:\\Users\\kangj\\AppData\\Local\\Temp\\ipykernel_22440\\374316082.py:6: RuntimeWarning: invalid value encountered in arcsin\n",
      "  return np.arcsin(sint)*(180/np.pi)\n"
     ]
    },
    {
     "data": {
      "text/html": [
       "<div>\n",
       "<style scoped>\n",
       "    .dataframe tbody tr th:only-of-type {\n",
       "        vertical-align: middle;\n",
       "    }\n",
       "\n",
       "    .dataframe tbody tr th {\n",
       "        vertical-align: top;\n",
       "    }\n",
       "\n",
       "    .dataframe thead th {\n",
       "        text-align: right;\n",
       "    }\n",
       "</style>\n",
       "<table border=\"1\" class=\"dataframe\">\n",
       "  <thead>\n",
       "    <tr style=\"text-align: right;\">\n",
       "      <th></th>\n",
       "      <th>pid</th>\n",
       "      <th>hght</th>\n",
       "      <th>n</th>\n",
       "      <th>bx</th>\n",
       "      <th>by</th>\n",
       "      <th>bz</th>\n",
       "      <th>rt</th>\n",
       "      <th>rx</th>\n",
       "      <th>ry</th>\n",
       "      <th>rz</th>\n",
       "      <th>...</th>\n",
       "      <th>rl2t</th>\n",
       "      <th>rl2x</th>\n",
       "      <th>rl2y</th>\n",
       "      <th>rl2z</th>\n",
       "      <th>pl</th>\n",
       "      <th>spl</th>\n",
       "      <th>plr</th>\n",
       "      <th>name</th>\n",
       "      <th>status</th>\n",
       "      <th>arc_angle</th>\n",
       "    </tr>\n",
       "  </thead>\n",
       "  <tbody>\n",
       "    <tr>\n",
       "      <th>31</th>\n",
       "      <td>201583</td>\n",
       "      <td>6.749997</td>\n",
       "      <td>606</td>\n",
       "      <td>-0.978204</td>\n",
       "      <td>-0.642407</td>\n",
       "      <td>3.376309</td>\n",
       "      <td>0.582</td>\n",
       "      <td>-0.032924</td>\n",
       "      <td>0.035091</td>\n",
       "      <td>8.183635</td>\n",
       "      <td>...</td>\n",
       "      <td>NaN</td>\n",
       "      <td>NaN</td>\n",
       "      <td>NaN</td>\n",
       "      <td>NaN</td>\n",
       "      <td>6.438592</td>\n",
       "      <td>4.946003</td>\n",
       "      <td>1.301777</td>\n",
       "      <td>Ryan Anderson</td>\n",
       "      <td>0</td>\n",
       "      <td>29.602757</td>\n",
       "    </tr>\n",
       "    <tr>\n",
       "      <th>172</th>\n",
       "      <td>203897</td>\n",
       "      <td>6.499997</td>\n",
       "      <td>222</td>\n",
       "      <td>0.176881</td>\n",
       "      <td>0.170759</td>\n",
       "      <td>3.186986</td>\n",
       "      <td>0.458</td>\n",
       "      <td>-0.031907</td>\n",
       "      <td>-0.001255</td>\n",
       "      <td>8.521937</td>\n",
       "      <td>...</td>\n",
       "      <td>NaN</td>\n",
       "      <td>NaN</td>\n",
       "      <td>NaN</td>\n",
       "      <td>NaN</td>\n",
       "      <td>6.014265</td>\n",
       "      <td>5.341805</td>\n",
       "      <td>1.125886</td>\n",
       "      <td>Zach LaVine</td>\n",
       "      <td>0</td>\n",
       "      <td>32.764774</td>\n",
       "    </tr>\n",
       "    <tr>\n",
       "      <th>183</th>\n",
       "      <td>2588</td>\n",
       "      <td>6.833331</td>\n",
       "      <td>204</td>\n",
       "      <td>-0.273533</td>\n",
       "      <td>0.289880</td>\n",
       "      <td>3.262486</td>\n",
       "      <td>0.468</td>\n",
       "      <td>-0.038654</td>\n",
       "      <td>0.005452</td>\n",
       "      <td>7.242857</td>\n",
       "      <td>...</td>\n",
       "      <td>NaN</td>\n",
       "      <td>NaN</td>\n",
       "      <td>NaN</td>\n",
       "      <td>NaN</td>\n",
       "      <td>4.500115</td>\n",
       "      <td>3.997427</td>\n",
       "      <td>1.125753</td>\n",
       "      <td>Matt Bonner</td>\n",
       "      <td>1</td>\n",
       "      <td>33.354648</td>\n",
       "    </tr>\n",
       "    <tr>\n",
       "      <th>167</th>\n",
       "      <td>202323</td>\n",
       "      <td>6.499997</td>\n",
       "      <td>230</td>\n",
       "      <td>0.831296</td>\n",
       "      <td>-0.390322</td>\n",
       "      <td>2.584940</td>\n",
       "      <td>0.432</td>\n",
       "      <td>-0.454487</td>\n",
       "      <td>0.081529</td>\n",
       "      <td>7.238700</td>\n",
       "      <td>...</td>\n",
       "      <td>NaN</td>\n",
       "      <td>NaN</td>\n",
       "      <td>NaN</td>\n",
       "      <td>NaN</td>\n",
       "      <td>5.298238</td>\n",
       "      <td>4.851120</td>\n",
       "      <td>1.092168</td>\n",
       "      <td>Evan Turner</td>\n",
       "      <td>0</td>\n",
       "      <td>33.823635</td>\n",
       "    </tr>\n",
       "    <tr>\n",
       "      <th>179</th>\n",
       "      <td>203086</td>\n",
       "      <td>6.999997</td>\n",
       "      <td>210</td>\n",
       "      <td>0.113668</td>\n",
       "      <td>-0.087351</td>\n",
       "      <td>3.121101</td>\n",
       "      <td>0.463</td>\n",
       "      <td>-0.044183</td>\n",
       "      <td>0.073655</td>\n",
       "      <td>8.436836</td>\n",
       "      <td>...</td>\n",
       "      <td>NaN</td>\n",
       "      <td>NaN</td>\n",
       "      <td>NaN</td>\n",
       "      <td>NaN</td>\n",
       "      <td>5.720037</td>\n",
       "      <td>5.320515</td>\n",
       "      <td>1.075091</td>\n",
       "      <td>Meyers Leonard</td>\n",
       "      <td>1</td>\n",
       "      <td>34.484145</td>\n",
       "    </tr>\n",
       "  </tbody>\n",
       "</table>\n",
       "<p>5 rows × 62 columns</p>\n",
       "</div>"
      ],
      "text/plain": [
       "        pid      hght    n        bx        by        bz     rt        rx  \\\n",
       "31   201583  6.749997  606 -0.978204 -0.642407  3.376309  0.582 -0.032924   \n",
       "172  203897  6.499997  222  0.176881  0.170759  3.186986  0.458 -0.031907   \n",
       "183    2588  6.833331  204 -0.273533  0.289880  3.262486  0.468 -0.038654   \n",
       "167  202323  6.499997  230  0.831296 -0.390322  2.584940  0.432 -0.454487   \n",
       "179  203086  6.999997  210  0.113668 -0.087351  3.121101  0.463 -0.044183   \n",
       "\n",
       "           ry        rz  ...  rl2t  rl2x  rl2y  rl2z        pl       spl  \\\n",
       "31   0.035091  8.183635  ...   NaN   NaN   NaN   NaN  6.438592  4.946003   \n",
       "172 -0.001255  8.521937  ...   NaN   NaN   NaN   NaN  6.014265  5.341805   \n",
       "183  0.005452  7.242857  ...   NaN   NaN   NaN   NaN  4.500115  3.997427   \n",
       "167  0.081529  7.238700  ...   NaN   NaN   NaN   NaN  5.298238  4.851120   \n",
       "179  0.073655  8.436836  ...   NaN   NaN   NaN   NaN  5.720037  5.320515   \n",
       "\n",
       "          plr            name  status  arc_angle  \n",
       "31   1.301777   Ryan Anderson       0  29.602757  \n",
       "172  1.125886     Zach LaVine       0  32.764774  \n",
       "183  1.125753     Matt Bonner       1  33.354648  \n",
       "167  1.092168     Evan Turner       0  33.823635  \n",
       "179  1.075091  Meyers Leonard       1  34.484145  \n",
       "\n",
       "[5 rows x 62 columns]"
      ]
     },
     "execution_count": 17,
     "metadata": {},
     "output_type": "execute_result"
    }
   ],
   "source": [
    "#try max-height appraoch but add players height\n",
    "def calc_angle(y, y_0,  t, v_0):\n",
    "    height_diff = y - y_0\n",
    "    g=-9.8\n",
    "    sint = (height_diff-(0.5*g*t**2))/(t*v_0)\n",
    "    return np.arcsin(sint)*(180/np.pi)\n",
    "\n",
    "merged[\"arc_angle\"] = merged.apply(lambda x: calc_angle(10, x[\"hght\"], x[\"rt\"], x[\"rv\"]), axis=1)\n",
    "\n",
    "merged.sort_values(by=\"arc_angle\").head()"
   ]
  },
  {
   "cell_type": "markdown",
   "metadata": {},
   "source": [
    "##### 2.2.5 Categorizing arc angle \n",
    "\n",
    "Categorized the arc level for each players after GROUPING by \"made\" or \"missed\" shots. The categorization of arcs is a relative measure based on whether or not the player's arc is above or below quantiles."
   ]
  },
  {
   "cell_type": "code",
   "execution_count": 18,
   "metadata": {},
   "outputs": [],
   "source": [
    "q3_arc = merged.groupby(\"status\").quantile(0.75, numeric_only=True)[\"arc_angle\"].iloc[0]\n",
    "q1_arc = merged.groupby(\"status\").quantile(0.25, numeric_only=True)[\"arc_angle\"].iloc[0]\n",
    "\n",
    "def categorize_arc(a):\n",
    "    if a >= q3_arc:\n",
    "        return \"High\"\n",
    "    elif a <= q1_arc:\n",
    "        return \"Low\"\n",
    "    else:\n",
    "        return \"Medium\"\n",
    "      \n",
    "merged[\"arc\"] = merged[\"arc_angle\"].apply(categorize_arc)"
   ]
  },
  {
   "cell_type": "markdown",
   "metadata": {},
   "source": [
    "<h5> Heatmap of important variables </h5>"
   ]
  },
  {
   "cell_type": "markdown",
   "metadata": {},
   "source": [
    "Below is a heatmap figure of some interesting variables. To highlight, there seems to be a high positive correlation between max velocity time and release time, as well as max velocity time and the x-coordinate of the ball. We also see a medium level of correlation for release time and \"plr\" - relative arc of the ball, negative correlation between max velocity and max velocity time, and max velocity and release time. This emphasizes an important remark that will be discussed in the conclusion."
   ]
  },
  {
   "cell_type": "code",
   "execution_count": 19,
   "metadata": {},
   "outputs": [
    {
     "data": {
      "text/plain": [
       "<Axes: >"
      ]
     },
     "execution_count": 19,
     "metadata": {},
     "output_type": "execute_result"
    },
    {
     "data": {
      "image/png": "[encoded data removed]",
      "text/plain": [
       "<Figure size 640x480 with 2 Axes>"
      ]
     },
     "metadata": {},
     "output_type": "display_data"
    }
   ],
   "source": [
    "#Heatmap & Barplot\n",
    "merged.head()\n",
    "h = merged.copy()[[\"plr\", \"rt\", \"rv\", \"mxv\", \"mxvt\", \"bx\", \"by\"]].corr()\n",
    "mask = np.triu(np.ones_like(h, dtype=bool))\n",
    "sns.heatmap(h, cmap='coolwarm', annot=True, vmin=-0.5, vmax=1, fmt=\".2f\", square=True, linewidths=0.5, mask=mask)"
   ]
  },
  {
   "cell_type": "markdown",
   "metadata": {},
   "source": [
    "##### 2.2.6 Sampling players with high arc\n",
    "\n",
    "Below are sampled players which have high arcs -- players who have shot-arc that higher than 75% of the NBA population."
   ]
  },
  {
   "cell_type": "code",
   "execution_count": 20,
   "metadata": {},
   "outputs": [
    {
     "data": {
      "text/plain": [
       "('P.J. Tucker',\n",
       " 'Michael Carter-Williams',\n",
       " 'Kyle Lowry',\n",
       " 'Isaiah Thomas',\n",
       " 'Martell Webster',\n",
       " 'Brandon Jennings',\n",
       " 'Matt Barnes',\n",
       " 'Kyle Singler',\n",
       " 'Austin Rivers',\n",
       " 'Tony Snell')"
      ]
     },
     "execution_count": 20,
     "metadata": {},
     "output_type": "execute_result"
    }
   ],
   "source": [
    "#for validity of calculation!\n",
    "high_arc_players = tuple(merged[merged[\"arc\"] == \"High\"].sort_values(by=\"arc_angle\", ascending=False)[\"name\"].drop_duplicates().sample(10).values)\n",
    "high_arc_players"
   ]
  },
  {
   "cell_type": "markdown",
   "metadata": {},
   "source": [
    "As seen in the list of high-arc players, some of the well-known players with high arc are Stephen Curr, Mike Conley and Mike Scott. Whether or not these players have high FG percentage will be analyzed later, but this gets us an idea of players with certain characteristics."
   ]
  },
  {
   "cell_type": "markdown",
   "metadata": {},
   "source": [
    "##### 2.2.7 Categorizing release time and jump distance\n",
    "\n",
    "Wrote a categorize() function to distniguish players with fast, mid or slow release time on their shots based on the \"rt\" column. Similarly, categorization depends on being greater/less than IQR.\n",
    "\n",
    "Applied the function to jump distancfe as well which is from the \"rz\" column, which measures the movement on the z-axis during release. This indicates how high the player jumps during the shot. "
   ]
  },
  {
   "cell_type": "code",
   "execution_count": 21,
   "metadata": {},
   "outputs": [],
   "source": [
    "q3_rt = merged.groupby(\"status\").quantile(0.75, numeric_only=True)[\"rt\"].iloc[0]\n",
    "q1_rt = merged.groupby(\"status\").quantile(0.25, numeric_only=True)[\"rt\"].iloc[0]\n",
    "q3_jt = merged.groupby(\"status\").quantile(0.75, numeric_only=True)[\"rz\"].iloc[0]\n",
    "q1_jt = merged.groupby(\"status\").quantile(0.25, numeric_only=True)[\"rz\"].iloc[0]\n",
    "\n",
    "def categorize(a,x,y):\n",
    "    if a >= x:\n",
    "        return \"3\"\n",
    "    elif a <= y:\n",
    "        return \"1\"\n",
    "    else:\n",
    "        return \"2\"\n",
    "      \n",
    "merged[\"Release\"] = merged[\"rt\"].apply(lambda x: categorize(x, q3_rt, q1_rt))\n",
    "      \n",
    "merged[\"jump_dist\"] = merged[\"rz\"].apply(lambda x: categorize(x, q3_jt, q1_jt))"
   ]
  },
  {
   "cell_type": "markdown",
   "metadata": {},
   "source": [
    "##### 2.2.8  Pivot table\n",
    "Created an approximate height column to distinguish heights into parts (i.e. players on the shorter-end + taller-end). Created a pivot table to look at heights and arc with values being \"rv\" column which indicates the release velocity."
   ]
  },
  {
   "cell_type": "code",
   "execution_count": 22,
   "metadata": {},
   "outputs": [
    {
     "data": {
      "text/html": [
       "<div>\n",
       "<style scoped>\n",
       "    .dataframe tbody tr th:only-of-type {\n",
       "        vertical-align: middle;\n",
       "    }\n",
       "\n",
       "    .dataframe tbody tr th {\n",
       "        vertical-align: top;\n",
       "    }\n",
       "\n",
       "    .dataframe thead th {\n",
       "        text-align: right;\n",
       "    }\n",
       "</style>\n",
       "<table border=\"1\" class=\"dataframe\">\n",
       "  <thead>\n",
       "    <tr style=\"text-align: right;\">\n",
       "      <th>arc</th>\n",
       "      <th>High</th>\n",
       "      <th>Low</th>\n",
       "      <th>Medium</th>\n",
       "    </tr>\n",
       "    <tr>\n",
       "      <th>approx_h</th>\n",
       "      <th></th>\n",
       "      <th></th>\n",
       "      <th></th>\n",
       "    </tr>\n",
       "  </thead>\n",
       "  <tbody>\n",
       "    <tr>\n",
       "      <th>5.7</th>\n",
       "      <td>12.417396</td>\n",
       "      <td>NaN</td>\n",
       "      <td>NaN</td>\n",
       "    </tr>\n",
       "    <tr>\n",
       "      <th>5.8</th>\n",
       "      <td>NaN</td>\n",
       "      <td>NaN</td>\n",
       "      <td>14.078587</td>\n",
       "    </tr>\n",
       "    <tr>\n",
       "      <th>5.9</th>\n",
       "      <td>13.757844</td>\n",
       "      <td>NaN</td>\n",
       "      <td>NaN</td>\n",
       "    </tr>\n",
       "    <tr>\n",
       "      <th>6.0</th>\n",
       "      <td>13.343654</td>\n",
       "      <td>14.656401</td>\n",
       "      <td>14.215273</td>\n",
       "    </tr>\n",
       "    <tr>\n",
       "      <th>6.1</th>\n",
       "      <td>14.134940</td>\n",
       "      <td>16.024046</td>\n",
       "      <td>15.248237</td>\n",
       "    </tr>\n",
       "    <tr>\n",
       "      <th>6.2</th>\n",
       "      <td>13.570324</td>\n",
       "      <td>17.453921</td>\n",
       "      <td>14.442019</td>\n",
       "    </tr>\n",
       "    <tr>\n",
       "      <th>6.3</th>\n",
       "      <td>12.878195</td>\n",
       "      <td>NaN</td>\n",
       "      <td>15.275244</td>\n",
       "    </tr>\n",
       "    <tr>\n",
       "      <th>6.4</th>\n",
       "      <td>12.795762</td>\n",
       "      <td>16.601583</td>\n",
       "      <td>13.887613</td>\n",
       "    </tr>\n",
       "    <tr>\n",
       "      <th>6.5</th>\n",
       "      <td>13.077039</td>\n",
       "      <td>15.515003</td>\n",
       "      <td>14.345421</td>\n",
       "    </tr>\n",
       "    <tr>\n",
       "      <th>6.6</th>\n",
       "      <td>12.245680</td>\n",
       "      <td>14.956685</td>\n",
       "      <td>13.608794</td>\n",
       "    </tr>\n",
       "    <tr>\n",
       "      <th>6.7</th>\n",
       "      <td>12.181339</td>\n",
       "      <td>14.680046</td>\n",
       "      <td>13.848325</td>\n",
       "    </tr>\n",
       "    <tr>\n",
       "      <th>6.8</th>\n",
       "      <td>NaN</td>\n",
       "      <td>15.302054</td>\n",
       "      <td>13.871355</td>\n",
       "    </tr>\n",
       "    <tr>\n",
       "      <th>6.9</th>\n",
       "      <td>NaN</td>\n",
       "      <td>14.301830</td>\n",
       "      <td>12.598129</td>\n",
       "    </tr>\n",
       "    <tr>\n",
       "      <th>7.0</th>\n",
       "      <td>NaN</td>\n",
       "      <td>14.902460</td>\n",
       "      <td>NaN</td>\n",
       "    </tr>\n",
       "    <tr>\n",
       "      <th>7.1</th>\n",
       "      <td>NaN</td>\n",
       "      <td>15.355372</td>\n",
       "      <td>NaN</td>\n",
       "    </tr>\n",
       "  </tbody>\n",
       "</table>\n",
       "</div>"
      ],
      "text/plain": [
       "arc            High        Low     Medium\n",
       "approx_h                                 \n",
       "5.7       12.417396        NaN        NaN\n",
       "5.8             NaN        NaN  14.078587\n",
       "5.9       13.757844        NaN        NaN\n",
       "6.0       13.343654  14.656401  14.215273\n",
       "6.1       14.134940  16.024046  15.248237\n",
       "6.2       13.570324  17.453921  14.442019\n",
       "6.3       12.878195        NaN  15.275244\n",
       "6.4       12.795762  16.601583  13.887613\n",
       "6.5       13.077039  15.515003  14.345421\n",
       "6.6       12.245680  14.956685  13.608794\n",
       "6.7       12.181339  14.680046  13.848325\n",
       "6.8             NaN  15.302054  13.871355\n",
       "6.9             NaN  14.301830  12.598129\n",
       "7.0             NaN  14.902460        NaN\n",
       "7.1             NaN  15.355372        NaN"
      ]
     },
     "execution_count": 22,
     "metadata": {},
     "output_type": "execute_result"
    }
   ],
   "source": [
    "center = 0\n",
    "merged[\"approx_h\"] = np.round(merged[\"hght\"], 1)\n",
    "table = pd.pivot_table(merged,index=[\"approx_h\"], values=\"rv\", columns=[\"arc\"], aggfunc=\"median\")\n",
    "table"
   ]
  },
  {
   "cell_type": "markdown",
   "metadata": {},
   "source": [
    "<h5> Exploring shooting velocity for different heights </h5>"
   ]
  },
  {
   "cell_type": "markdown",
   "metadata": {},
   "source": [
    "The barplot figure shows the release velocity for different heights (rounded to 2nd decimals) seperated by arc-level. Release velocity is proportional to acceleration and thus to force of the shot. We will explore how shooting force differs (in general) for different heights."
   ]
  },
  {
   "cell_type": "code",
   "execution_count": 23,
   "metadata": {},
   "outputs": [
    {
     "data": {
      "image/png": "[encoded data removed]",
      "text/plain": [
       "<Figure size 1000x700 with 3 Axes>"
      ]
     },
     "metadata": {},
     "output_type": "display_data"
    }
   ],
   "source": [
    "fig,ax=plt.subplots(1,3, figsize=(10,7))\n",
    "t = table.reset_index().dropna()\n",
    "sns.barplot(data=t, x=t[\"approx_h\"], y=t[\"Low\"],ax=ax[0], color=\"red\")\n",
    "sns.barplot(data=t, x=t[\"approx_h\"], y=t[\"Medium\"],ax=ax[1], color=\"green\")\n",
    "sns.barplot(data=t, x=t[\"approx_h\"], y=t[\"High\"],ax=ax[2])\n",
    "ax[0].set_ylabel(\"Release Velocity (ft/s)\")\n",
    "ax[1].set_ylabel(\"Release Velocity (ft/s)\")\n",
    "ax[2].set_ylabel(\"Release Velocity (ft/s)\")\n",
    "plt.suptitle(\"Release velocity for each height levels\")\n",
    "plt.tight_layout()"
   ]
  },
  {
   "cell_type": "markdown",
   "metadata": {},
   "source": [
    "As you can see above, for the low-arc shooters (red), players who are 6.1 to 6.4 tall shoot with the highest power. For medium-arc shooters (green) 6.1ft players shoot with the most power but there is no clear pattern. Lastly, the high-arc shooters on the shorter-end of height again shoot with the most velocity. This gives us an interesting remark which will be discussed later."
   ]
  },
  {
   "cell_type": "markdown",
   "metadata": {},
   "source": [
    "##### 2.2.9 The average location of the shoot pocket for each arc. </h5>"
   ]
  },
  {
   "cell_type": "code",
   "execution_count": 24,
   "metadata": {},
   "outputs": [
    {
     "data": {
      "text/html": [
       "<div>\n",
       "<style scoped>\n",
       "    .dataframe tbody tr th:only-of-type {\n",
       "        vertical-align: middle;\n",
       "    }\n",
       "\n",
       "    .dataframe tbody tr th {\n",
       "        vertical-align: top;\n",
       "    }\n",
       "\n",
       "    .dataframe thead th {\n",
       "        text-align: right;\n",
       "    }\n",
       "</style>\n",
       "<table border=\"1\" class=\"dataframe\">\n",
       "  <thead>\n",
       "    <tr style=\"text-align: right;\">\n",
       "      <th></th>\n",
       "      <th>bx</th>\n",
       "    </tr>\n",
       "    <tr>\n",
       "      <th>arc</th>\n",
       "      <th></th>\n",
       "    </tr>\n",
       "  </thead>\n",
       "  <tbody>\n",
       "    <tr>\n",
       "      <th>High</th>\n",
       "      <td>-0.019838</td>\n",
       "    </tr>\n",
       "    <tr>\n",
       "      <th>Low</th>\n",
       "      <td>-0.096571</td>\n",
       "    </tr>\n",
       "    <tr>\n",
       "      <th>Medium</th>\n",
       "      <td>-0.120107</td>\n",
       "    </tr>\n",
       "  </tbody>\n",
       "</table>\n",
       "</div>"
      ],
      "text/plain": [
       "              bx\n",
       "arc             \n",
       "High   -0.019838\n",
       "Low    -0.096571\n",
       "Medium -0.120107"
      ]
     },
     "execution_count": 24,
     "metadata": {},
     "output_type": "execute_result"
    }
   ],
   "source": [
    "merged[[\"arc\", \"bx\"]].groupby(\"arc\").median()"
   ]
  },
  {
   "cell_type": "markdown",
   "metadata": {},
   "source": [
    "##### 2.2.10 Count players based on their shooting release time. "
   ]
  },
  {
   "cell_type": "code",
   "execution_count": 25,
   "metadata": {},
   "outputs": [
    {
     "data": {
      "text/plain": [
       "Release\n",
       "2    193\n",
       "3     99\n",
       "1     86\n",
       "Name: count, dtype: int64"
      ]
     },
     "execution_count": 25,
     "metadata": {},
     "output_type": "execute_result"
    }
   ],
   "source": [
    "merged[\"Release\"].value_counts()"
   ]
  },
  {
   "cell_type": "markdown",
   "metadata": {},
   "source": [
    "#### Histogram of player counts"
   ]
  },
  {
   "cell_type": "markdown",
   "metadata": {},
   "source": [
    "Below is a histogram that visualizes the information for the table #11. By far, most NBA players have \"normal\" release time with slightly higher number of players that have faster release. This highlights 2 important questions: Is it the BEST to shoot with a normal release time (not too slow, but not too fast)? & Is faster shooting form on the rise -- is it better?"
   ]
  },
  {
   "cell_type": "code",
   "execution_count": 26,
   "metadata": {},
   "outputs": [
    {
     "data": {
      "text/plain": [
       "Text(0.5, 1.0, 'Counts of players with release time levels')"
      ]
     },
     "execution_count": 26,
     "metadata": {},
     "output_type": "execute_result"
    },
    {
     "data": {
      "image/png": "[encoded data removed]",
      "text/plain": [
       "<Figure size 640x480 with 1 Axes>"
      ]
     },
     "metadata": {},
     "output_type": "display_data"
    }
   ],
   "source": [
    "sns.histplot(data=merged, x=\"Release\",hue=\"Release\")\n",
    "plt.title(\"Counts of players with release time levels\")"
   ]
  },
  {
   "cell_type": "markdown",
   "metadata": {},
   "source": [
    "##### 2.2.11 Exploring jump distance"
   ]
  },
  {
   "cell_type": "markdown",
   "metadata": {},
   "source": [
    "Let's explore how high height of players with various jump distances. According to the data, players who are shorter (~6.2ft) jump the lowest while players who are around 6.5ft tall (taller guards/forwards) jump the highest. This is a somewhat surprising result since you would think that taller players jump less. But, if you think about Stephen Curry (6.2ft) Ray Allen (6.5ft), it is somewhat convincing."
   ]
  },
  {
   "cell_type": "code",
   "execution_count": 27,
   "metadata": {},
   "outputs": [
    {
     "data": {
      "text/html": [
       "<div>\n",
       "<style scoped>\n",
       "    .dataframe tbody tr th:only-of-type {\n",
       "        vertical-align: middle;\n",
       "    }\n",
       "\n",
       "    .dataframe tbody tr th {\n",
       "        vertical-align: top;\n",
       "    }\n",
       "\n",
       "    .dataframe thead th {\n",
       "        text-align: right;\n",
       "    }\n",
       "</style>\n",
       "<table border=\"1\" class=\"dataframe\">\n",
       "  <thead>\n",
       "    <tr style=\"text-align: right;\">\n",
       "      <th></th>\n",
       "      <th>hght</th>\n",
       "    </tr>\n",
       "    <tr>\n",
       "      <th>jump_dist</th>\n",
       "      <th></th>\n",
       "    </tr>\n",
       "  </thead>\n",
       "  <tbody>\n",
       "    <tr>\n",
       "      <th>1</th>\n",
       "      <td>6.281744</td>\n",
       "    </tr>\n",
       "    <tr>\n",
       "      <th>3</th>\n",
       "      <td>6.565474</td>\n",
       "    </tr>\n",
       "  </tbody>\n",
       "</table>\n",
       "</div>"
      ],
      "text/plain": [
       "               hght\n",
       "jump_dist          \n",
       "1          6.281744\n",
       "3          6.565474"
      ]
     },
     "execution_count": 27,
     "metadata": {},
     "output_type": "execute_result"
    }
   ],
   "source": [
    "merged[merged[\"jump_dist\"].isin([\"1\",\"3\"])][[\"jump_dist\",\"hght\"]].groupby(\"jump_dist\").mean()"
   ]
  },
  {
   "cell_type": "markdown",
   "metadata": {},
   "source": [
    "##### 2.2.13 Measuring the x-coordinate change at highest arc"
   ]
  },
  {
   "cell_type": "markdown",
   "metadata": {},
   "source": [
    "Imagine you are shooting a basketball. You have probably noticed that not all players have a striaght shot curvature -- more specifically -- in their perspective, the ball might not go straight in respect to the hand of release in the air! This is indicated by the x-coordinate change and we will measure this when the ball reaches its highest point. \n",
    "The goal of this finding is to see whether or not there is a pattern involving x-coordinate change of the ball path for good and bad shooters. "
   ]
  },
  {
   "cell_type": "markdown",
   "metadata": {},
   "source": [
    "To do so, we\n",
    "1. Filter the rows such that the time goes up to the minimum velocity time.\n",
    "2. Then find the difference of sum of the \"cx\" -- left/right coordinate.\n",
    "3. Then, join the missed & made tables together for comparison.\n",
    "\n",
    "REMARK:\n",
    "- dx_at_top_x: x-coordinate change (made)\n",
    "- dx_at_top_y: x-coordinate change (missed)"
   ]
  },
  {
   "cell_type": "code",
   "execution_count": 14,
   "metadata": {},
   "outputs": [],
   "source": [
    "made_player_b = made_player_b.merge(made_player_p, on=\"pid\")\n",
    "missed_b = missed_b.merge(missed_p, on=\"pid\")"
   ]
  },
  {
   "cell_type": "code",
   "execution_count": 15,
   "metadata": {},
   "outputs": [],
   "source": [
    "made_player_b = made_player_b[made_player_b[\"t\"] <= made_player_b[\"mnvt\"]]\n",
    "missed_b = missed_b[missed_b[\"t\"] <= missed_b[\"mnvt\"]]"
   ]
  },
  {
   "cell_type": "code",
   "execution_count": 16,
   "metadata": {},
   "outputs": [],
   "source": [
    "made_player_b[\"dx_at_top\"] = made_player_b[[\"cx\"]].diff().expanding().sum()\n",
    "missed_b[\"dx_at_top\"] = missed_b[[\"cx\"]].diff().expanding().sum()"
   ]
  },
  {
   "cell_type": "code",
   "execution_count": 18,
   "metadata": {},
   "outputs": [],
   "source": [
    "dx_made = made_player_b[[\"dx_at_top\", \"t\", \"fnm_x\", \"lnm_x\", \"pid\", \"mnvt\"]][made_player_b[\"t\"] == made_player_b[\"mnvt\"]].sort_values(by=[\"dx_at_top\"])\n",
    "dx_made[\"dx_at_top\"] = dx_made[\"dx_at_top\"].round(2)"
   ]
  },
  {
   "cell_type": "code",
   "execution_count": 19,
   "metadata": {},
   "outputs": [],
   "source": [
    "dx_miss = missed_b[[\"dx_at_top\", \"t\", \"fnm_x\", \"lnm_x\",\"pid\", \"mnvt\"]][missed_b[\"t\"] == missed_b[\"mnvt\"]].sort_values(by=[\"dx_at_top\"])\n",
    "dx_miss[\"dx_at_top\"] = dx_miss[\"dx_at_top\"].round(2)"
   ]
  },
  {
   "cell_type": "code",
   "execution_count": 24,
   "metadata": {},
   "outputs": [],
   "source": [
    "cols = [\"dx_at_top_x\", \"dx_at_top_y\", \"fnm_x\", \"lnm_x\"]\n",
    "j = dx_made.merge(dx_miss, on=[\"pid\", \"fnm_x\", \"lnm_x\"], how=\"inner\")"
   ]
  },
  {
   "cell_type": "code",
   "execution_count": 25,
   "metadata": {},
   "outputs": [
    {
     "data": {
      "text/html": [
       "<div>\n",
       "<style scoped>\n",
       "    .dataframe tbody tr th:only-of-type {\n",
       "        vertical-align: middle;\n",
       "    }\n",
       "\n",
       "    .dataframe tbody tr th {\n",
       "        vertical-align: top;\n",
       "    }\n",
       "\n",
       "    .dataframe thead th {\n",
       "        text-align: right;\n",
       "    }\n",
       "</style>\n",
       "<table border=\"1\" class=\"dataframe\">\n",
       "  <thead>\n",
       "    <tr style=\"text-align: right;\">\n",
       "      <th></th>\n",
       "      <th>dx_at_top_x</th>\n",
       "      <th>dx_at_top_y</th>\n",
       "      <th>fnm_x</th>\n",
       "      <th>lnm_x</th>\n",
       "    </tr>\n",
       "  </thead>\n",
       "  <tbody>\n",
       "    <tr>\n",
       "      <th>146</th>\n",
       "      <td>0.71</td>\n",
       "      <td>0.58</td>\n",
       "      <td>Marcus</td>\n",
       "      <td>Smart</td>\n",
       "    </tr>\n",
       "  </tbody>\n",
       "</table>\n",
       "</div>"
      ],
      "text/plain": [
       "     dx_at_top_x  dx_at_top_y   fnm_x  lnm_x\n",
       "146         0.71         0.58  Marcus  Smart"
      ]
     },
     "execution_count": 25,
     "metadata": {},
     "output_type": "execute_result"
    }
   ],
   "source": [
    "j.query(\"lnm_x=='Smart'\")[cols]"
   ]
  },
  {
   "cell_type": "code",
   "execution_count": 26,
   "metadata": {},
   "outputs": [
    {
     "data": {
      "text/html": [
       "<div>\n",
       "<style scoped>\n",
       "    .dataframe tbody tr th:only-of-type {\n",
       "        vertical-align: middle;\n",
       "    }\n",
       "\n",
       "    .dataframe tbody tr th {\n",
       "        vertical-align: top;\n",
       "    }\n",
       "\n",
       "    .dataframe thead th {\n",
       "        text-align: right;\n",
       "    }\n",
       "</style>\n",
       "<table border=\"1\" class=\"dataframe\">\n",
       "  <thead>\n",
       "    <tr style=\"text-align: right;\">\n",
       "      <th></th>\n",
       "      <th>dx_at_top_x</th>\n",
       "      <th>dx_at_top_y</th>\n",
       "      <th>fnm_x</th>\n",
       "      <th>lnm_x</th>\n",
       "    </tr>\n",
       "  </thead>\n",
       "  <tbody>\n",
       "    <tr>\n",
       "      <th>10</th>\n",
       "      <td>0.21</td>\n",
       "      <td>0.1</td>\n",
       "      <td>Stephen</td>\n",
       "      <td>Curry</td>\n",
       "    </tr>\n",
       "  </tbody>\n",
       "</table>\n",
       "</div>"
      ],
      "text/plain": [
       "    dx_at_top_x  dx_at_top_y    fnm_x  lnm_x\n",
       "10         0.21          0.1  Stephen  Curry"
      ]
     },
     "execution_count": 26,
     "metadata": {},
     "output_type": "execute_result"
    }
   ],
   "source": [
    "j.query(\"lnm_x=='Curry'\")[cols]"
   ]
  },
  {
   "cell_type": "code",
   "execution_count": 27,
   "metadata": {},
   "outputs": [
    {
     "data": {
      "text/html": [
       "<div>\n",
       "<style scoped>\n",
       "    .dataframe tbody tr th:only-of-type {\n",
       "        vertical-align: middle;\n",
       "    }\n",
       "\n",
       "    .dataframe tbody tr th {\n",
       "        vertical-align: top;\n",
       "    }\n",
       "\n",
       "    .dataframe thead th {\n",
       "        text-align: right;\n",
       "    }\n",
       "</style>\n",
       "<table border=\"1\" class=\"dataframe\">\n",
       "  <thead>\n",
       "    <tr style=\"text-align: right;\">\n",
       "      <th></th>\n",
       "      <th>dx_at_top_x</th>\n",
       "      <th>dx_at_top_y</th>\n",
       "      <th>fnm_x</th>\n",
       "      <th>lnm_x</th>\n",
       "    </tr>\n",
       "  </thead>\n",
       "  <tbody>\n",
       "    <tr>\n",
       "      <th>22</th>\n",
       "      <td>0.34</td>\n",
       "      <td>0.60</td>\n",
       "      <td>Hollis</td>\n",
       "      <td>Thompson</td>\n",
       "    </tr>\n",
       "    <tr>\n",
       "      <th>112</th>\n",
       "      <td>0.57</td>\n",
       "      <td>0.45</td>\n",
       "      <td>Klay</td>\n",
       "      <td>Thompson</td>\n",
       "    </tr>\n",
       "  </tbody>\n",
       "</table>\n",
       "</div>"
      ],
      "text/plain": [
       "     dx_at_top_x  dx_at_top_y   fnm_x     lnm_x\n",
       "22          0.34         0.60  Hollis  Thompson\n",
       "112         0.57         0.45    Klay  Thompson"
      ]
     },
     "execution_count": 27,
     "metadata": {},
     "output_type": "execute_result"
    }
   ],
   "source": [
    "j.query(\"lnm_x=='Thompson'\")[cols]"
   ]
  },
  {
   "cell_type": "code",
   "execution_count": 29,
   "metadata": {},
   "outputs": [
    {
     "data": {
      "text/html": [
       "<div>\n",
       "<style scoped>\n",
       "    .dataframe tbody tr th:only-of-type {\n",
       "        vertical-align: middle;\n",
       "    }\n",
       "\n",
       "    .dataframe tbody tr th {\n",
       "        vertical-align: top;\n",
       "    }\n",
       "\n",
       "    .dataframe thead th {\n",
       "        text-align: right;\n",
       "    }\n",
       "</style>\n",
       "<table border=\"1\" class=\"dataframe\">\n",
       "  <thead>\n",
       "    <tr style=\"text-align: right;\">\n",
       "      <th></th>\n",
       "      <th>dx_at_top_x</th>\n",
       "      <th>dx_at_top_y</th>\n",
       "      <th>fnm_x</th>\n",
       "      <th>lnm_x</th>\n",
       "    </tr>\n",
       "  </thead>\n",
       "  <tbody>\n",
       "    <tr>\n",
       "      <th>1</th>\n",
       "      <td>-0.15</td>\n",
       "      <td>0.41</td>\n",
       "      <td>Shawne</td>\n",
       "      <td>Williams</td>\n",
       "    </tr>\n",
       "    <tr>\n",
       "      <th>85</th>\n",
       "      <td>0.52</td>\n",
       "      <td>0.44</td>\n",
       "      <td>Marvin</td>\n",
       "      <td>Williams</td>\n",
       "    </tr>\n",
       "    <tr>\n",
       "      <th>114</th>\n",
       "      <td>0.57</td>\n",
       "      <td>0.34</td>\n",
       "      <td>Derrick</td>\n",
       "      <td>Williams</td>\n",
       "    </tr>\n",
       "    <tr>\n",
       "      <th>128</th>\n",
       "      <td>0.63</td>\n",
       "      <td>0.53</td>\n",
       "      <td>Mo</td>\n",
       "      <td>Williams</td>\n",
       "    </tr>\n",
       "    <tr>\n",
       "      <th>131</th>\n",
       "      <td>0.64</td>\n",
       "      <td>0.69</td>\n",
       "      <td>Deron</td>\n",
       "      <td>Williams</td>\n",
       "    </tr>\n",
       "    <tr>\n",
       "      <th>132</th>\n",
       "      <td>0.64</td>\n",
       "      <td>0.71</td>\n",
       "      <td>Lou</td>\n",
       "      <td>Williams</td>\n",
       "    </tr>\n",
       "  </tbody>\n",
       "</table>\n",
       "</div>"
      ],
      "text/plain": [
       "     dx_at_top_x  dx_at_top_y    fnm_x     lnm_x\n",
       "1          -0.15         0.41   Shawne  Williams\n",
       "85          0.52         0.44   Marvin  Williams\n",
       "114         0.57         0.34  Derrick  Williams\n",
       "128         0.63         0.53       Mo  Williams\n",
       "131         0.64         0.69    Deron  Williams\n",
       "132         0.64         0.71      Lou  Williams"
      ]
     },
     "execution_count": 29,
     "metadata": {},
     "output_type": "execute_result"
    }
   ],
   "source": [
    "j.query(\"lnm_x=='Williams'\")[cols]"
   ]
  },
  {
   "cell_type": "markdown",
   "metadata": {},
   "source": [
    "To summarise, best scorers like Stephen Curry and Klay Thompson seem to have more x curvature when they MAKE the shot -- 0.21/0.1 & 0.57/0.45 respectively. Looking at Marcus Smart's statistics, he also has more x curvature when he makes the shot but certainly he is not as dominant as Klay or Stephen. So, we cannot spot a difference between good and bad scorers. \n",
    "\n",
    "\n",
    "However, for this sample of players, we see that the x-curvature stays relatively CONSISTENT for good scorers. For example, Thompson and Curry has only ~0.10 difference while players like Smart, Hollis Thompson, or Shawe Williams has much higher gap (~ 0.15). This sparks an important remark that some players score less due to more curvature. While we don't have enough evidence, they should try to shoot straight! "
   ]
  },
  {
   "cell_type": "markdown",
   "metadata": {},
   "source": [
    "##### 2.2.12 Descriptive Statistics\n",
    "\n",
    "Finally, created a summary table to review basic statistics about different columns."
   ]
  },
  {
   "cell_type": "code",
   "execution_count": 35,
   "metadata": {},
   "outputs": [
    {
     "data": {
      "text/html": [
       "<div>\n",
       "<style scoped>\n",
       "    .dataframe tbody tr th:only-of-type {\n",
       "        vertical-align: middle;\n",
       "    }\n",
       "\n",
       "    .dataframe tbody tr th {\n",
       "        vertical-align: top;\n",
       "    }\n",
       "\n",
       "    .dataframe thead th {\n",
       "        text-align: right;\n",
       "    }\n",
       "</style>\n",
       "<table border=\"1\" class=\"dataframe\">\n",
       "  <thead>\n",
       "    <tr style=\"text-align: right;\">\n",
       "      <th></th>\n",
       "      <th>hght</th>\n",
       "      <th>arc_angle</th>\n",
       "      <th>plr</th>\n",
       "      <th>n</th>\n",
       "      <th>rt</th>\n",
       "    </tr>\n",
       "  </thead>\n",
       "  <tbody>\n",
       "    <tr>\n",
       "      <th>count</th>\n",
       "      <td>346.000000</td>\n",
       "      <td>333.000000</td>\n",
       "      <td>368.000000</td>\n",
       "      <td>378.000000</td>\n",
       "      <td>368.000000</td>\n",
       "    </tr>\n",
       "    <tr>\n",
       "      <th>mean</th>\n",
       "      <td>6.448456</td>\n",
       "      <td>49.257027</td>\n",
       "      <td>1.101757</td>\n",
       "      <td>439.259259</td>\n",
       "      <td>0.424084</td>\n",
       "    </tr>\n",
       "    <tr>\n",
       "      <th>std</th>\n",
       "      <td>0.263204</td>\n",
       "      <td>7.994080</td>\n",
       "      <td>0.092785</td>\n",
       "      <td>183.316055</td>\n",
       "      <td>0.055785</td>\n",
       "    </tr>\n",
       "    <tr>\n",
       "      <th>min</th>\n",
       "      <td>5.749998</td>\n",
       "      <td>29.602757</td>\n",
       "      <td>1.009153</td>\n",
       "      <td>200.000000</td>\n",
       "      <td>0.280000</td>\n",
       "    </tr>\n",
       "    <tr>\n",
       "      <th>25%</th>\n",
       "      <td>6.249998</td>\n",
       "      <td>43.181333</td>\n",
       "      <td>1.063709</td>\n",
       "      <td>292.000000</td>\n",
       "      <td>0.382750</td>\n",
       "    </tr>\n",
       "    <tr>\n",
       "      <th>50%</th>\n",
       "      <td>6.499997</td>\n",
       "      <td>48.551738</td>\n",
       "      <td>1.088846</td>\n",
       "      <td>420.000000</td>\n",
       "      <td>0.409500</td>\n",
       "    </tr>\n",
       "    <tr>\n",
       "      <th>75%</th>\n",
       "      <td>6.666664</td>\n",
       "      <td>53.896184</td>\n",
       "      <td>1.117565</td>\n",
       "      <td>538.000000</td>\n",
       "      <td>0.466000</td>\n",
       "    </tr>\n",
       "    <tr>\n",
       "      <th>max</th>\n",
       "      <td>7.083330</td>\n",
       "      <td>84.316257</td>\n",
       "      <td>2.526627</td>\n",
       "      <td>1138.000000</td>\n",
       "      <td>0.596000</td>\n",
       "    </tr>\n",
       "  </tbody>\n",
       "</table>\n",
       "</div>"
      ],
      "text/plain": [
       "             hght   arc_angle         plr            n          rt\n",
       "count  346.000000  333.000000  368.000000   378.000000  368.000000\n",
       "mean     6.448456   49.257027    1.101757   439.259259    0.424084\n",
       "std      0.263204    7.994080    0.092785   183.316055    0.055785\n",
       "min      5.749998   29.602757    1.009153   200.000000    0.280000\n",
       "25%      6.249998   43.181333    1.063709   292.000000    0.382750\n",
       "50%      6.499997   48.551738    1.088846   420.000000    0.409500\n",
       "75%      6.666664   53.896184    1.117565   538.000000    0.466000\n",
       "max      7.083330   84.316257    2.526627  1138.000000    0.596000"
      ]
     },
     "execution_count": 35,
     "metadata": {},
     "output_type": "execute_result"
    }
   ],
   "source": [
    "merged[[\"hght\", \"arc_angle\", \"plr\", \"n\", \"rt\"]].describe()"
   ]
  },
  {
   "cell_type": "code",
   "execution_count": 36,
   "metadata": {},
   "outputs": [
    {
     "name": "stdout",
     "output_type": "stream",
     "text": [
      "<class 'pandas.core.frame.DataFrame'>\n",
      "Index: 378 entries, 0 to 188\n",
      "Data columns (total 66 columns):\n",
      " #   Column     Non-Null Count  Dtype  \n",
      "---  ------     --------------  -----  \n",
      " 0   pid        378 non-null    int64  \n",
      " 1   hght       346 non-null    float64\n",
      " 2   n          378 non-null    int64  \n",
      " 3   bx         368 non-null    float64\n",
      " 4   by         368 non-null    float64\n",
      " 5   bz         368 non-null    float64\n",
      " 6   rt         368 non-null    float64\n",
      " 7   rx         368 non-null    float64\n",
      " 8   ry         368 non-null    float64\n",
      " 9   rz         368 non-null    float64\n",
      " 10  rv         368 non-null    float64\n",
      " 11  rvx        368 non-null    float64\n",
      " 12  rvy        368 non-null    float64\n",
      " 13  rvz        368 non-null    float64\n",
      " 14  mnv        368 non-null    float64\n",
      " 15  mnvt       351 non-null    float64\n",
      " 16  mnvx       351 non-null    float64\n",
      " 17  mnvy       351 non-null    float64\n",
      " 18  mnvz       351 non-null    float64\n",
      " 19  mxv        368 non-null    float64\n",
      " 20  mxvt       367 non-null    float64\n",
      " 21  mxvx       367 non-null    float64\n",
      " 22  mxvy       367 non-null    float64\n",
      " 23  mxvz       367 non-null    float64\n",
      " 24  ta1t       362 non-null    float64\n",
      " 25  ta1x       362 non-null    float64\n",
      " 26  ta1y       362 non-null    float64\n",
      " 27  ta1z       362 non-null    float64\n",
      " 28  ta2t       2 non-null      float64\n",
      " 29  ta2x       2 non-null      float64\n",
      " 30  ta2y       2 non-null      float64\n",
      " 31  ta2z       2 non-null      float64\n",
      " 32  at1t       362 non-null    float64\n",
      " 33  at1x       362 non-null    float64\n",
      " 34  at1y       362 non-null    float64\n",
      " 35  at1z       362 non-null    float64\n",
      " 36  at2t       2 non-null      float64\n",
      " 37  at2x       2 non-null      float64\n",
      " 38  at2y       2 non-null      float64\n",
      " 39  at2z       2 non-null      float64\n",
      " 40  lr1t       248 non-null    float64\n",
      " 41  lr1x       248 non-null    float64\n",
      " 42  lr1y       248 non-null    float64\n",
      " 43  lr1z       248 non-null    float64\n",
      " 44  lr2t       29 non-null     float64\n",
      " 45  lr2x       29 non-null     float64\n",
      " 46  lr2y       29 non-null     float64\n",
      " 47  lr2z       29 non-null     float64\n",
      " 48  rl1t       340 non-null    float64\n",
      " 49  rl1x       340 non-null    float64\n",
      " 50  rl1y       340 non-null    float64\n",
      " 51  rl1z       340 non-null    float64\n",
      " 52  rl2t       41 non-null     float64\n",
      " 53  rl2x       41 non-null     float64\n",
      " 54  rl2y       41 non-null     float64\n",
      " 55  rl2z       41 non-null     float64\n",
      " 56  pl         378 non-null    float64\n",
      " 57  spl        368 non-null    float64\n",
      " 58  plr        368 non-null    float64\n",
      " 59  name       378 non-null    object \n",
      " 60  status     378 non-null    int64  \n",
      " 61  arc_angle  333 non-null    float64\n",
      " 62  arc        378 non-null    object \n",
      " 63  Release    378 non-null    object \n",
      " 64  jump_dist  378 non-null    object \n",
      " 65  approx_h   346 non-null    float64\n",
      "dtypes: float64(59), int64(3), object(4)\n",
      "memory usage: 197.9+ KB\n"
     ]
    }
   ],
   "source": [
    "merged.info()"
   ]
  },
  {
   "cell_type": "code",
   "execution_count": 37,
   "metadata": {},
   "outputs": [
    {
     "data": {
      "text/plain": [
       "2"
      ]
     },
     "execution_count": 37,
     "metadata": {},
     "output_type": "execute_result"
    }
   ],
   "source": [
    "merged.ndim"
   ]
  },
  {
   "cell_type": "markdown",
   "metadata": {},
   "source": [
    "### 3 Data Cleaning\n",
    "\n",
    "- Removed all columns that were unused or fully NA\n",
    "- Filled all other NA values with 0 \n",
    "- Dropped all duplicate rows\n",
    "- Saved the cleaned & wrangled files into csv for further analysis"
   ]
  },
  {
   "cell_type": "code",
   "execution_count": 79,
   "metadata": {},
   "outputs": [
    {
     "data": {
      "text/html": [
       "<div>\n",
       "<style scoped>\n",
       "    .dataframe tbody tr th:only-of-type {\n",
       "        vertical-align: middle;\n",
       "    }\n",
       "\n",
       "    .dataframe tbody tr th {\n",
       "        vertical-align: top;\n",
       "    }\n",
       "\n",
       "    .dataframe thead th {\n",
       "        text-align: right;\n",
       "    }\n",
       "</style>\n",
       "<table border=\"1\" class=\"dataframe\">\n",
       "  <thead>\n",
       "    <tr style=\"text-align: right;\">\n",
       "      <th></th>\n",
       "      <th>pid</th>\n",
       "      <th>hght</th>\n",
       "      <th>n</th>\n",
       "      <th>bx</th>\n",
       "      <th>by</th>\n",
       "      <th>bz</th>\n",
       "      <th>rt</th>\n",
       "      <th>rx</th>\n",
       "      <th>ry</th>\n",
       "      <th>rz</th>\n",
       "      <th>...</th>\n",
       "      <th>pl</th>\n",
       "      <th>spl</th>\n",
       "      <th>plr</th>\n",
       "      <th>name</th>\n",
       "      <th>status</th>\n",
       "      <th>arc_angle</th>\n",
       "      <th>arc</th>\n",
       "      <th>Release</th>\n",
       "      <th>jump_dist</th>\n",
       "      <th>approx_h</th>\n",
       "    </tr>\n",
       "  </thead>\n",
       "  <tbody>\n",
       "    <tr>\n",
       "      <th>0</th>\n",
       "      <td>201935</td>\n",
       "      <td>6.416664</td>\n",
       "      <td>1138</td>\n",
       "      <td>-0.188301</td>\n",
       "      <td>0.261251</td>\n",
       "      <td>3.407759</td>\n",
       "      <td>0.376</td>\n",
       "      <td>-0.009724</td>\n",
       "      <td>0.018318</td>\n",
       "      <td>8.168231</td>\n",
       "      <td>...</td>\n",
       "      <td>5.159005</td>\n",
       "      <td>4.770011</td>\n",
       "      <td>1.081550</td>\n",
       "      <td>James Harden</td>\n",
       "      <td>1</td>\n",
       "      <td>51.932797</td>\n",
       "      <td>Medium</td>\n",
       "      <td>1</td>\n",
       "      <td>2</td>\n",
       "      <td>6.4</td>\n",
       "    </tr>\n",
       "    <tr>\n",
       "      <th>1</th>\n",
       "      <td>203081</td>\n",
       "      <td>6.166664</td>\n",
       "      <td>1114</td>\n",
       "      <td>-0.203829</td>\n",
       "      <td>-0.114526</td>\n",
       "      <td>2.976263</td>\n",
       "      <td>0.378</td>\n",
       "      <td>0.000623</td>\n",
       "      <td>-0.001450</td>\n",
       "      <td>7.694068</td>\n",
       "      <td>...</td>\n",
       "      <td>5.063771</td>\n",
       "      <td>4.723586</td>\n",
       "      <td>1.072018</td>\n",
       "      <td>Damian Lillard</td>\n",
       "      <td>1</td>\n",
       "      <td>54.642860</td>\n",
       "      <td>High</td>\n",
       "      <td>1</td>\n",
       "      <td>1</td>\n",
       "      <td>6.2</td>\n",
       "    </tr>\n",
       "    <tr>\n",
       "      <th>2</th>\n",
       "      <td>2772</td>\n",
       "      <td>6.666664</td>\n",
       "      <td>942</td>\n",
       "      <td>0.094973</td>\n",
       "      <td>-0.040592</td>\n",
       "      <td>3.168317</td>\n",
       "      <td>0.436</td>\n",
       "      <td>-0.075815</td>\n",
       "      <td>-0.003552</td>\n",
       "      <td>8.524100</td>\n",
       "      <td>...</td>\n",
       "      <td>5.813509</td>\n",
       "      <td>5.358633</td>\n",
       "      <td>1.084887</td>\n",
       "      <td>Trevor Ariza</td>\n",
       "      <td>1</td>\n",
       "      <td>41.276358</td>\n",
       "      <td>Low</td>\n",
       "      <td>2</td>\n",
       "      <td>2</td>\n",
       "      <td>6.7</td>\n",
       "    </tr>\n",
       "    <tr>\n",
       "      <th>3</th>\n",
       "      <td>202083</td>\n",
       "      <td>6.333331</td>\n",
       "      <td>920</td>\n",
       "      <td>-0.730036</td>\n",
       "      <td>0.199584</td>\n",
       "      <td>3.154288</td>\n",
       "      <td>0.372</td>\n",
       "      <td>-0.004414</td>\n",
       "      <td>-0.000733</td>\n",
       "      <td>7.482605</td>\n",
       "      <td>...</td>\n",
       "      <td>4.888613</td>\n",
       "      <td>4.393289</td>\n",
       "      <td>1.112746</td>\n",
       "      <td>Wesley Matthews</td>\n",
       "      <td>1</td>\n",
       "      <td>53.569242</td>\n",
       "      <td>High</td>\n",
       "      <td>1</td>\n",
       "      <td>1</td>\n",
       "      <td>6.3</td>\n",
       "    </tr>\n",
       "    <tr>\n",
       "      <th>4</th>\n",
       "      <td>200768</td>\n",
       "      <td>5.999998</td>\n",
       "      <td>886</td>\n",
       "      <td>0.458438</td>\n",
       "      <td>-0.121073</td>\n",
       "      <td>2.717203</td>\n",
       "      <td>0.462</td>\n",
       "      <td>-0.009921</td>\n",
       "      <td>-0.011221</td>\n",
       "      <td>7.975187</td>\n",
       "      <td>...</td>\n",
       "      <td>6.180054</td>\n",
       "      <td>5.279945</td>\n",
       "      <td>1.170477</td>\n",
       "      <td>Kyle Lowry</td>\n",
       "      <td>1</td>\n",
       "      <td>50.067045</td>\n",
       "      <td>Medium</td>\n",
       "      <td>2</td>\n",
       "      <td>2</td>\n",
       "      <td>6.0</td>\n",
       "    </tr>\n",
       "  </tbody>\n",
       "</table>\n",
       "<p>5 rows × 50 columns</p>\n",
       "</div>"
      ],
      "text/plain": [
       "      pid      hght     n        bx        by        bz     rt        rx  \\\n",
       "0  201935  6.416664  1138 -0.188301  0.261251  3.407759  0.376 -0.009724   \n",
       "1  203081  6.166664  1114 -0.203829 -0.114526  2.976263  0.378  0.000623   \n",
       "2    2772  6.666664   942  0.094973 -0.040592  3.168317  0.436 -0.075815   \n",
       "3  202083  6.333331   920 -0.730036  0.199584  3.154288  0.372 -0.004414   \n",
       "4  200768  5.999998   886  0.458438 -0.121073  2.717203  0.462 -0.009921   \n",
       "\n",
       "         ry        rz  ...        pl       spl       plr             name  \\\n",
       "0  0.018318  8.168231  ...  5.159005  4.770011  1.081550     James Harden   \n",
       "1 -0.001450  7.694068  ...  5.063771  4.723586  1.072018   Damian Lillard   \n",
       "2 -0.003552  8.524100  ...  5.813509  5.358633  1.084887     Trevor Ariza   \n",
       "3 -0.000733  7.482605  ...  4.888613  4.393289  1.112746  Wesley Matthews   \n",
       "4 -0.011221  7.975187  ...  6.180054  5.279945  1.170477       Kyle Lowry   \n",
       "\n",
       "   status  arc_angle     arc  Release  jump_dist  approx_h  \n",
       "0       1  51.932797  Medium        1          2       6.4  \n",
       "1       1  54.642860    High        1          1       6.2  \n",
       "2       1  41.276358     Low        2          2       6.7  \n",
       "3       1  53.569242    High        1          1       6.3  \n",
       "4       1  50.067045  Medium        2          2       6.0  \n",
       "\n",
       "[5 rows x 50 columns]"
      ]
     },
     "execution_count": 79,
     "metadata": {},
     "output_type": "execute_result"
    }
   ],
   "source": [
    "#Data Cleaning and downloading\n",
    "merged = merged.drop_duplicates()\n",
    "cols_to_drop = merged.columns[merged.columns.str.contains('2')]\n",
    "merged = merged.drop(columns=cols_to_drop)\n",
    "merged = merged.fillna(0)\n",
    "merged.head()"
   ]
  },
  {
   "cell_type": "code",
   "execution_count": 50,
   "metadata": {},
   "outputs": [],
   "source": [
    "merged.to_csv(\"player_shooting.csv\")"
   ]
  }
 ],
 "metadata": {
  "kernelspec": {
   "display_name": "Python 3",
   "language": "python",
   "name": "python3"
  },
  "language_info": {
   "codemirror_mode": {
    "name": "ipython",
    "version": 3
   },
   "file_extension": ".py",
   "mimetype": "text/x-python",
   "name": "python",
   "nbconvert_exporter": "python",
   "pygments_lexer": "ipython3",
   "version": "3.11.3"
  }
 },
 "nbformat": 4,
 "nbformat_minor": 2
}
